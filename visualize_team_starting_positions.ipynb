{
 "cells": [
  {
   "cell_type": "code",
   "execution_count": 3,
   "metadata": {
    "collapsed": false,
    "pycharm": {
     "name": "#%%\n"
    }
   },
   "outputs": [],
   "source": [
    "import os\n",
    "from matplotlib import pyplot as plt\n",
    "from tqdm import tqdm\n",
    "\n",
    "from utils import load_game_data"
   ]
  },
  {
   "cell_type": "code",
   "execution_count": 4,
   "metadata": {
    "collapsed": false,
    "pycharm": {
     "name": "#%%\n"
    }
   },
   "outputs": [],
   "source": [
    "data_folder = 'D:/fantasyai/data'"
   ]
  },
  {
   "cell_type": "code",
   "execution_count": 5,
   "metadata": {
    "collapsed": false,
    "pycharm": {
     "name": "#%%\n"
    }
   },
   "outputs": [
    {
     "name": "stderr",
     "output_type": "stream",
     "text": [
      "658it [01:39,  6.58it/s]\n"
     ]
    }
   ],
   "source": [
    "team_positions = [[], []]\n",
    "\n",
    "for id, game in tqdm(load_game_data(os.path.join(data_folder, 'aggregated'))):\n",
    "    format = game['format']\n",
    "    position_index = format['state']['champion_state'].index('position')\n",
    "    first_game_state = game['data'][0]['state']\n",
    "    for i in range(10):\n",
    "        team_index = i >= 5\n",
    "        team_positions[team_index].append(first_game_state['champion_state'][i][position_index])"
   ]
  },
  {
   "cell_type": "code",
   "execution_count": 8,
   "metadata": {
    "collapsed": false,
    "pycharm": {
     "name": "#%%\n"
    }
   },
   "outputs": [
    {
     "data": {
      "image/png": "[encoded data removed]",
      "text/plain": [
       "<Figure size 432x288 with 1 Axes>"
      ]
     },
     "metadata": {
      "needs_background": "light"
     },
     "output_type": "display_data"
    },
    {
     "data": {
      "image/png": "[encoded data removed]",
      "text/plain": [
       "<Figure size 432x288 with 1 Axes>"
      ]
     },
     "metadata": {
      "needs_background": "light"
     },
     "output_type": "display_data"
    }
   ],
   "source": [
    "teams = ('Blue', 'Red')\n",
    "for team in range(2):\n",
    "    x = [p['x'] for p in team_positions[team]]\n",
    "    y = [p['z'] for p in team_positions[team]]\n",
    "    plt.hist2d(x, y, bins=30)\n",
    "    plt.title(teams[team])\n",
    "    plt.show()"
   ]
  },
  {
   "cell_type": "code",
   "execution_count": null,
   "metadata": {
    "collapsed": false,
    "pycharm": {
     "name": "#%%\n"
    }
   },
   "outputs": [],
   "source": []
  }
 ],
 "metadata": {
  "kernelspec": {
   "display_name": "Python 3",
   "language": "python",
   "name": "python3"
  },
  "language_info": {
   "codemirror_mode": {
    "name": "ipython",
    "version": 2
   },
   "file_extension": ".py",
   "mimetype": "text/x-python",
   "name": "python",
   "nbconvert_exporter": "python",
   "pygments_lexer": "ipython2",
   "version": "3.8.10"
  },
  "vscode": {
   "interpreter": {
    "hash": "4e5f7066aea961af301e85fa5b88fe183168ebffaf4d11c7c5a6d53f0ba7549c"
   }
  }
 },
 "nbformat": 4,
 "nbformat_minor": 0
}
