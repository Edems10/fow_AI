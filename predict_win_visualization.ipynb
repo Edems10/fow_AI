{
 "cells": [
  {
   "cell_type": "code",
   "execution_count": 1,
   "metadata": {
    "collapsed": false,
    "pycharm": {
     "name": "#%%\n"
    }
   },
   "outputs": [],
   "source": [
    "import cv2\n",
    "import numpy as np\n",
    "import os\n",
    "import pandas as pd\n",
    "from matplotlib import pyplot as plt\n",
    "from sklearn.model_selection import KFold\n",
    "\n",
    "from data_dragon import DataDragon\n",
    "from lol_rules import DRAGON_TYPES, TURRET_TYPES\n",
    "from win_predictor.win_feature_extractor import WinFeatureExtractor\n",
    "from win_predictor.logistic_regression_win_predictor import LogisticRegressionWinPredictor\n"
   ]
  },
  {
   "cell_type": "code",
   "execution_count": 2,
   "metadata": {
    "collapsed": false,
    "pycharm": {
     "name": "#%%\n"
    }
   },
   "outputs": [],
   "source": [
    "data_folder = r'C:\\Users\\edems\\Documents\\Work\\fow_AI\\Game_data'\n",
    "output_folder = os.path.join('output', 'win_prediction')\n",
    "if not os.path.exists(output_folder):\n",
    "    os.mkdir(output_folder)\n",
    "output_folder = os.path.join(output_folder, 'win_visualization')\n",
    "if not os.path.exists(output_folder):\n",
    "    os.mkdir(output_folder)\n",
    "dataset_folder = 'data_fow_v2'\n",
    "version = '13.4'\n",
    "data_dragon = DataDragon(data_folder, version)\n",
    "\n",
    "df = pd.read_csv(os.path.join(dataset_folder, 'win_dataset.csv'))\n",
    "game_ids = np.unique(df['id'])\n",
    "kf = KFold(n_splits=5)\n",
    "\n",
    "\n"
   ]
  },
  {
   "cell_type": "code",
   "execution_count": 5,
   "metadata": {
    "collapsed": false,
    "pycharm": {
     "name": "#%%\n"
    }
   },
   "outputs": [
    {
     "name": "stderr",
     "output_type": "stream",
     "text": [
      "C:\\Users\\edems\\AppData\\Local\\Packages\\PythonSoftwareFoundation.Python.3.11_qbz5n2kfra8p0\\LocalCache\\local-packages\\Python311\\site-packages\\sklearn\\linear_model\\_logistic.py:1173: FutureWarning: `penalty='none'`has been deprecated in 1.2 and will be removed in 1.4. To keep the past behaviour, set `penalty=None`.\n",
      "  warnings.warn(\n",
      "C:\\Users\\edems\\AppData\\Local\\Packages\\PythonSoftwareFoundation.Python.3.11_qbz5n2kfra8p0\\LocalCache\\local-packages\\Python311\\site-packages\\sklearn\\linear_model\\_logistic.py:1173: FutureWarning: `penalty='none'`has been deprecated in 1.2 and will be removed in 1.4. To keep the past behaviour, set `penalty=None`.\n",
      "  warnings.warn(\n",
      "C:\\Users\\edems\\AppData\\Local\\Packages\\PythonSoftwareFoundation.Python.3.11_qbz5n2kfra8p0\\LocalCache\\local-packages\\Python311\\site-packages\\sklearn\\linear_model\\_logistic.py:1173: FutureWarning: `penalty='none'`has been deprecated in 1.2 and will be removed in 1.4. To keep the past behaviour, set `penalty=None`.\n",
      "  warnings.warn(\n",
      "C:\\Users\\edems\\AppData\\Local\\Packages\\PythonSoftwareFoundation.Python.3.11_qbz5n2kfra8p0\\LocalCache\\local-packages\\Python311\\site-packages\\sklearn\\linear_model\\_logistic.py:1173: FutureWarning: `penalty='none'`has been deprecated in 1.2 and will be removed in 1.4. To keep the past behaviour, set `penalty=None`.\n",
      "  warnings.warn(\n",
      "C:\\Users\\edems\\AppData\\Local\\Packages\\PythonSoftwareFoundation.Python.3.11_qbz5n2kfra8p0\\LocalCache\\local-packages\\Python311\\site-packages\\sklearn\\linear_model\\_logistic.py:1173: FutureWarning: `penalty='none'`has been deprecated in 1.2 and will be removed in 1.4. To keep the past behaviour, set `penalty=None`.\n",
      "  warnings.warn(\n"
     ]
    }
   ],
   "source": [
    "features = ['kills', 'turrets_total', 'monsters', 'gold']\n",
    "for train_index, test_index in kf.split(game_ids):\n",
    "    # Prepare train data\n",
    "    rows = []\n",
    "    for id in game_ids[train_index]:\n",
    "        game_data = df.loc[df['id'] == id]\n",
    "        times = [timestep for timestep in game_data['time']]\n",
    "        for timestep in times:\n",
    "            rows.extend(game_data.loc[game_data['time'] == timestep].index)\n",
    "    x_train = df.iloc[rows]\n",
    "    y_train = x_train.pop('winner').values\n",
    "    x_train.pop('id')\n",
    "    feature_extractor = WinFeatureExtractor(features,\n",
    "                                            data_dragon,\n",
    "                                            normalize=False)\n",
    "    model = LogisticRegressionWinPredictor(feature_extractor)\n",
    "    model.train(x_train, y_train)"
   ]
  },
  {
   "cell_type": "code",
   "execution_count": 13,
   "metadata": {
    "collapsed": false,
    "pycharm": {
     "name": "#%%\n"
    }
   },
   "outputs": [
    {
     "data": {
      "text/plain": [
       "True"
      ]
     },
     "execution_count": 13,
     "metadata": {},
     "output_type": "execute_result"
    }
   ],
   "source": [
    "def plot_winrate(game_data: pd.DataFrame,\n",
    "                 winner: int,\n",
    "                 probabilities: np.ndarray,\n",
    "                 width: int,\n",
    "                 height: int,\n",
    "                 vertical_padding: int,\n",
    "                 horizontal_padding: int) -> np.ndarray:\n",
    "    game_end = int(game_data.iloc[-1]['time'])\n",
    "    game_end_minutes = game_end // 60 // 1000\n",
    "    canvas = np.full((height, width, 3), 0, dtype=np.uint8)\n",
    "    axes_color = (255, 255, 255)\n",
    "    prediction_color = (255, 255, 255)\n",
    "    text_font = cv2.FONT_HERSHEY_SIMPLEX\n",
    "    font_scale = 1\n",
    "    title_font_scale = 2\n",
    "    tick_size = 10\n",
    "    graph_height = height \n",
    "    # Add title\n",
    "    title = \"Win Prediction\"\n",
    "    cv2.putText(canvas, title, (width // 2 - len(title) * 15, vertical_padding - 10), text_font, title_font_scale, (255, 255, 255), 3)\n",
    "    # Plot axes\n",
    "    cv2.line(canvas, (horizontal_padding, vertical_padding), (horizontal_padding, graph_height - vertical_padding), axes_color, 2)\n",
    "    cv2.line(canvas, (horizontal_padding, graph_height - vertical_padding), (width - horizontal_padding, graph_height - vertical_padding), axes_color, 2)\n",
    "    cv2.line(canvas, (horizontal_padding, vertical_padding), (width - horizontal_padding, vertical_padding), axes_color, 2)\n",
    "    \n",
    "    # Add labels to axes\n",
    "    cv2.putText(canvas, 'Minutes', (width - 115, height - 0), text_font, font_scale, axes_color, 2)\n",
    "\n",
    "    \n",
    "    # Add dots\n",
    "    x_dot_num = np.ceil(game_end_minutes / 5).astype(int).item()\n",
    "    x_per_dot = (width - 2 * horizontal_padding) / (x_dot_num - 1)\n",
    "    y_axis_dots = np.linspace(graph_height - vertical_padding, vertical_padding, num=11, dtype=int)\n",
    "    # Plot y axis ticks and labels\n",
    "    for i in range(11):\n",
    "        x = horizontal_padding\n",
    "        y = y_axis_dots[i]\n",
    "        label = f'{i / 10:.1f}'\n",
    "        cv2.line(canvas,\n",
    "                 (x, y),\n",
    "                 (x - tick_size, y),\n",
    "                 axes_color)\n",
    "        cv2.putText(canvas,\n",
    "                    label,\n",
    "                    (x - 22 * len(label), y + 10 * font_scale),\n",
    "                    text_font,\n",
    "                    font_scale,\n",
    "                    axes_color,\n",
    "                    2)\n",
    "    # Plot x axis ticks and labels\n",
    "    for i in range(x_dot_num):\n",
    "        x = horizontal_padding + round(i * x_per_dot)\n",
    "        y = graph_height - vertical_padding\n",
    "        label = str(i*5)\n",
    "        cv2.line(canvas,\n",
    "                 (x, y),\n",
    "                 (x, y + tick_size),\n",
    "                 axes_color)\n",
    "        cv2.putText(canvas,\n",
    "                    label,\n",
    "                    (x - (20 * font_scale * len(label)) // 2, y + 40),\n",
    "                    text_font,\n",
    "                    font_scale,\n",
    "                    axes_color,\n",
    "                    2)\n",
    "    # Plot predicted winrate and events\n",
    "    previous_horizontal_offset = 0\n",
    "    previous_vertical_offset = round((graph_height - 2 * vertical_padding) * probabilities[0, 0])\n",
    "    for i, state_probabilities in enumerate(probabilities):\n",
    "        horizontal_offset = round((width - 2 * horizontal_padding) * (i / len(game_data)))\n",
    "        vertical_offset = round((graph_height - 2 * vertical_padding) * state_probabilities[0])\n",
    "        previous_pos = (horizontal_padding + previous_horizontal_offset, graph_height - vertical_padding - previous_vertical_offset)\n",
    "        pos = (horizontal_padding + horizontal_offset, graph_height - vertical_padding - vertical_offset)\n",
    "        cv2.line(canvas, previous_pos, pos, prediction_color, 2)\n",
    "        previous_horizontal_offset = horizontal_offset\n",
    "        previous_vertical_offset = vertical_offset\n",
    "\n",
    "    return canvas\n",
    "\n",
    "\n",
    "width, height = 1500, 900\n",
    "vertical_padding = 60\n",
    "horizontal_padding = 70\n",
    "\n",
    "\n",
    "id = game_ids[0]\n",
    "x_test = df.loc[df['id'] == id]\n",
    "y_test = x_test.pop('winner').values\n",
    "x_test.pop('id')\n",
    "probabilities = model.predict_proba(x_test)\n",
    "img = plot_winrate(x_test, y_test[0], probabilities, width, height, vertical_padding, horizontal_padding)\n",
    "cv2.imwrite(os.path.join(output_folder, f\"win_prediction_{id}.png\"), img)\n"
   ]
  }
 ],
 "metadata": {
  "kernelspec": {
   "display_name": "Python 3",
   "language": "python",
   "name": "python3"
  },
  "language_info": {
   "codemirror_mode": {
    "name": "ipython",
    "version": 3
   },
   "file_extension": ".py",
   "mimetype": "text/x-python",
   "name": "python",
   "nbconvert_exporter": "python",
   "pygments_lexer": "ipython3",
   "version": "3.11.4"
  },
  "vscode": {
   "interpreter": {
    "hash": "4e5f7066aea961af301e85fa5b88fe183168ebffaf4d11c7c5a6d53f0ba7549c"
   }
  }
 },
 "nbformat": 4,
 "nbformat_minor": 0
}
