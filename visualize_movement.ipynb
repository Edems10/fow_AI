{
 "cells": [
  {
   "cell_type": "code",
   "execution_count": 1,
   "metadata": {
    "collapsed": true
   },
   "outputs": [],
   "source": [
    "import json\n",
    "import numpy as np\n",
    "import os\n",
    "from matplotlib import pyplot as plt"
   ]
  },
  {
   "cell_type": "code",
   "execution_count": 11,
   "metadata": {
    "collapsed": false,
    "pycharm": {
     "name": "#%%\n"
    }
   },
   "outputs": [],
   "source": [
    "# Load aggregated data\n",
    "with open('output.json', 'r') as f:\n",
    "    doc = json.load(f)"
   ]
  },
  {
   "cell_type": "code",
   "execution_count": 12,
   "metadata": {
    "collapsed": false,
    "pycharm": {
     "name": "#%%\n"
    }
   },
   "outputs": [
    {
     "data": {
      "image/png": "[encoded data removed]",
      "text/plain": [
       "<Figure size 576x576 with 1 Axes>"
      ]
     },
     "metadata": {
      "needs_background": "light"
     },
     "output_type": "display_data"
    }
   ],
   "source": [
    "output_folder = 'output'\n",
    "if not os.path.exists(output_folder):\n",
    "    os.mkdir(output_folder)\n",
    "teams = ('teamOne', 'teamTwo')\n",
    "colors = ('blue', 'violet')\n",
    "player_respawns = np.zeros((2, 5))\n",
    "last_positions = None\n",
    "for time in sorted(doc.keys(), key=int):\n",
    "    new_positions = np.array([doc[time]['positions'][team] for team in teams])\n",
    "    # Check champion deaths\n",
    "    events = doc[time]['events']\n",
    "    for event in events:\n",
    "        if event['eventType'] == 'DIED':\n",
    "            player_index = int(event['player'][6:]) - 1\n",
    "            team = 1 if player_index > 4 else 0\n",
    "            player_index = player_index % 5\n",
    "            player_respawns[team, player_index] = int(event['gameTime']) + int(event['respawnTime'])\n",
    "    if last_positions is not None:\n",
    "        movements = new_positions - last_positions\n",
    "        plt.close()\n",
    "        plt.figure(figsize=(8,8))\n",
    "        plt.axis('off')\n",
    "        plt.xlim([0, 15000])\n",
    "        plt.ylim([0, 15000])\n",
    "        for team, color in enumerate(colors):\n",
    "            team_movements = movements[team]\n",
    "            for player in range(5):\n",
    "                x, y = last_positions[team, player]\n",
    "                dx, dy = movements[team, player]\n",
    "                if int(time) < player_respawns[team, player]:\n",
    "                    plt.plot(x, y, marker='x', markersize=5, color=color)\n",
    "                elif dx == 0 and dy == 0:\n",
    "                    plt.plot(x, y, marker='o', markersize=3, color=color)\n",
    "                else:\n",
    "                    plt.arrow(x, y, dx, dy, color=color, width=5, head_width=100)\n",
    "        # plt.title(f'{key}')\n",
    "        plt.savefig(os.path.join(output_folder, f'{time}.png'))\n",
    "        # plt.show()\n",
    "    last_positions = new_positions"
   ]
  },
  {
   "cell_type": "code",
   "execution_count": null,
   "metadata": {
    "collapsed": false,
    "pycharm": {
     "name": "#%%\n"
    }
   },
   "outputs": [],
   "source": []
  }
 ],
 "metadata": {
  "kernelspec": {
   "display_name": "Python 3",
   "language": "python",
   "name": "python3"
  },
  "language_info": {
   "codemirror_mode": {
    "name": "ipython",
    "version": 2
   },
   "file_extension": ".py",
   "mimetype": "text/x-python",
   "name": "python",
   "nbconvert_exporter": "python",
   "pygments_lexer": "ipython2",
   "version": "3.8.10"
  },
  "vscode": {
   "interpreter": {
    "hash": "4e5f7066aea961af301e85fa5b88fe183168ebffaf4d11c7c5a6d53f0ba7549c"
   }
  }
 },
 "nbformat": 4,
 "nbformat_minor": 0
}
