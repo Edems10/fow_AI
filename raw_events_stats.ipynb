{
 "cells": [
  {
   "cell_type": "code",
   "execution_count": 1,
   "metadata": {
    "collapsed": true,
    "pycharm": {
     "name": "#%%\n"
    }
   },
   "outputs": [],
   "source": [
    "import json\n",
    "import os\n",
    "\n",
    "from collections import Counter\n",
    "from tqdm import tqdm\n",
    "\n",
    "from utils import read_matches_from_batches"
   ]
  },
  {
   "cell_type": "markdown",
   "metadata": {
    "collapsed": false,
    "pycharm": {
     "name": "#%% md\n"
    }
   },
   "source": [
    "Get the number of unique ids of matches in all batches"
   ]
  },
  {
   "cell_type": "code",
   "execution_count": 2,
   "metadata": {
    "collapsed": false,
    "pycharm": {
     "name": "#%%\n"
    }
   },
   "outputs": [
    {
     "name": "stdout",
     "output_type": "stream",
     "text": [
      "736\n"
     ]
    }
   ],
   "source": [
    "data_folder = 'D:/fantasyai/data'\n",
    "ids = set()\n",
    "for batch in range(1, 7):\n",
    "    batch_folder = os.path.join(data_folder, f'Batch{batch:02d}')\n",
    "    for file in os.listdir(batch_folder):\n",
    "        prefix, id, *_ = file.split('_')\n",
    "        ids.add(id)\n",
    "print(len(ids))"
   ]
  },
  {
   "cell_type": "markdown",
   "metadata": {
    "collapsed": false,
    "pycharm": {
     "name": "#%% md\n"
    }
   },
   "source": [
    "Get all event schemas occuring in the data"
   ]
  },
  {
   "cell_type": "code",
   "execution_count": 3,
   "metadata": {
    "collapsed": false,
    "pycharm": {
     "name": "#%%\n"
    }
   },
   "outputs": [
    {
     "name": "stderr",
     "output_type": "stream",
     "text": [
      "0it [00:00, ?it/s]"
     ]
    },
    {
     "name": "stdout",
     "output_type": "stream",
     "text": [
      "1720252 has unwanted version 11.1\n",
      "1720310 has unwanted version 11.1\n",
      "1720319 has unwanted version 11.1\n",
      "Found a broken match with different events sharing sequenceIndex.\n",
      "1720384 has unwanted version 11.1\n",
      "1720409 has unwanted version 11.1\n",
      "1721347 has unwanted version 11.1\n",
      "1721401 has unwanted version 11.1\n",
      "1721802 has unwanted version 11.1\n",
      "1721849 has unwanted version 11.1\n",
      "Found a broken match with no events: 1721849\n",
      "1721876 has unwanted version 11.1\n",
      "1723398 has unwanted version 11.1\n",
      "1723413 has unwanted version 11.1\n",
      "1723431 has unwanted version 11.1\n",
      "1723460 has unwanted version 11.1\n",
      "1723480 has unwanted version 11.1\n",
      "1723572 has unwanted version 11.1\n",
      "1723581 has unwanted version 11.1\n",
      "1723584 has unwanted version 11.1\n",
      "1731611 has unwanted version 11.1\n",
      "1731670 has unwanted version 11.1\n",
      "1731702 has unwanted version 11.1\n",
      "1731733 has unwanted version 11.1\n"
     ]
    },
    {
     "name": "stderr",
     "output_type": "stream",
     "text": [
      "1it [02:24, 144.54s/it]"
     ]
    },
    {
     "name": "stdout",
     "output_type": "stream",
     "text": [
      "1732213 has unwanted version 11.1\n"
     ]
    },
    {
     "name": "stderr",
     "output_type": "stream",
     "text": [
      "130it [05:32,  1.49s/it]"
     ]
    },
    {
     "name": "stdout",
     "output_type": "stream",
     "text": [
      "Found a broken match with no events: 2070522\n",
      "Found a broken match with no events: 2070635\n"
     ]
    },
    {
     "name": "stderr",
     "output_type": "stream",
     "text": [
      "424it [12:19,  1.53s/it]"
     ]
    },
    {
     "name": "stdout",
     "output_type": "stream",
     "text": [
      "1480449 has unwanted version 11.1\n",
      "1480456 has unwanted version 11.1\n",
      "1480491 has unwanted version 11.1\n",
      "1480515 has unwanted version 11.1\n",
      "1480519 has unwanted version 11.1\n",
      "1480524 has unwanted version 11.1\n",
      "1480527 has unwanted version 11.1\n",
      "1481058 has unwanted version 11.1\n",
      "1481087 has unwanted version 11.1\n",
      "1481089 has unwanted version 11.1\n",
      "1481164 has unwanted version 11.1\n",
      "1481175 has unwanted version 11.1\n",
      "1481179 has unwanted version 11.1\n",
      "1481197 has unwanted version 11.1\n",
      "1490437 has unwanted version 11.1\n",
      "1490439 has unwanted version 11.1\n",
      "1490445 has unwanted version 11.1\n",
      "1490859 has unwanted version 11.1\n",
      "1490882 has unwanted version 11.1\n",
      "1491149 has unwanted version 11.1\n",
      "1491156 has unwanted version 11.1\n",
      "1491159 has unwanted version 11.1\n",
      "1491166 has unwanted version 11.1\n",
      "1780255 has unwanted version 11.1\n",
      "1780270 has unwanted version 11.1\n",
      "1780291 has unwanted version 11.1\n",
      "1780302 has unwanted version 11.1\n",
      "1780309 has unwanted version 11.1\n",
      "1780315 has unwanted version 11.1\n",
      "1510222 has unwanted version 11.1\n",
      "1510250 has unwanted version 11.1\n",
      "1510261 has unwanted version 11.1\n",
      "1510267 has unwanted version 11.1\n",
      "1510269 has unwanted version 11.1\n",
      "1510288 has unwanted version 11.1\n",
      "1510310 has unwanted version 11.1\n",
      "1510313 has unwanted version 11.1\n",
      "1550007 has unwanted version 11.1\n",
      "1550213 has unwanted version 11.1\n",
      "1560023 has unwanted version 11.1\n",
      "1560051 has unwanted version 11.1\n",
      "1560052 has unwanted version 11.1\n",
      "1560061 has unwanted version 11.1\n",
      "1560068 has unwanted version 11.1\n",
      "1560069 has unwanted version 11.1\n"
     ]
    },
    {
     "name": "stderr",
     "output_type": "stream",
     "text": [
      "429it [13:29,  4.85s/it]"
     ]
    },
    {
     "name": "stdout",
     "output_type": "stream",
     "text": [
      "1560072 has unwanted version 11.1\n",
      "1560073 has unwanted version 11.1\n",
      "1560251 has unwanted version 11.1\n",
      "Found a broken match with no events: 1560251\n"
     ]
    },
    {
     "name": "stderr",
     "output_type": "stream",
     "text": [
      "584it [17:06,  1.40s/it]"
     ]
    },
    {
     "name": "stdout",
     "output_type": "stream",
     "text": [
      "Found a broken match with different events sharing sequenceIndex.\n"
     ]
    },
    {
     "name": "stderr",
     "output_type": "stream",
     "text": [
      "659it [18:38,  1.70s/it]"
     ]
    },
    {
     "name": "stdout",
     "output_type": "stream",
     "text": [
      "Counter({'stats_update': 1234714, 'item_purchased': 155245, 'item_destroyed': 154779, 'ward_placed': 150202, 'skill_level_up': 96723, 'champion_level_up': 90399, 'epic_monster_kill': 67985, 'ward_killed': 60877, 'champion_kill': 19045, 'item_sold': 11024, 'building_destroyed': 9181, 'turret_plate_destroyed': 6523, 'item_undo': 4498, 'champion_kill_special': 3703, 'epic_monster_spawn': 3171, 'queued_dragon_info': 2996, 'mute_action': 659, 'game_end': 657, 'quit': 245, 'pause_ended': 223, 'pause_started': 222, 'reconnect': 109, 'surrender': 83, 'champion_transformed': 10})\n"
     ]
    },
    {
     "name": "stderr",
     "output_type": "stream",
     "text": [
      "\n"
     ]
    }
   ],
   "source": [
    "version = '11.15'\n",
    "schemas = Counter()\n",
    "for events in tqdm(read_matches_from_batches(data_folder, version)):\n",
    "    for event in events:\n",
    "        schema = event['rfc461Schema']\n",
    "        schemas[schema] += 1\n",
    "print(schemas)"
   ]
  },
  {
   "cell_type": "markdown",
   "metadata": {
    "collapsed": false,
    "pycharm": {
     "name": "#%% md\n"
    }
   },
   "source": []
  },
  {
   "cell_type": "markdown",
   "metadata": {
    "collapsed": false,
    "pycharm": {
     "name": "#%% md\n"
    }
   },
   "source": [
    "Get examples for all event schemas in the data"
   ]
  },
  {
   "cell_type": "code",
   "execution_count": 11,
   "metadata": {
    "collapsed": false,
    "pycharm": {
     "name": "#%%\n"
    }
   },
   "outputs": [
    {
     "name": "stderr",
     "output_type": "stream",
     "text": [
      "259it [06:53,  1.60s/it]\n"
     ]
    },
    {
     "name": "stdout",
     "output_type": "stream",
     "text": [
      "{\"stats_update\": {\"gameID\": 1720186, \"rfc001Scope\": \"riot.lol.mgs.sx\", \"sequenceIndex\": 59, \"teams\": [{\"towerKills\": 0, \"assists\": 0, \"inhibKills\": 0, \"totalGold\": 2500, \"teamID\": 100, \"championsKills\": 0, \"deaths\": 0, \"dragonKills\": 0, \"baronKills\": 0}, {\"towerKills\": 0, \"assists\": 0, \"inhibKills\": 0, \"totalGold\": 2500, \"teamID\": 200, \"championsKills\": 0, \"deaths\": 0, \"dragonKills\": 0, \"baronKills\": 0}], \"rfc460Timestamp\": \"2021-01-23T04:24:51.502Z\", \"platformID\": \"ESPORTSTMNT01\", \"gameOver\": false, \"rfc190Scope\": \"test.unk1.unk.lolgame.legs\", \"playbackID\": 1, \"gameTime\": 18387, \"gameName\": \"105562833913467203|game1\", \"rfc460Hostname\": \"0.0.0.0\", \"rfc461Schema\": \"stats_update\", \"participants\": [{\"alive\": true, \"summonerSpell1CooldownRemaining\": 0, \"healthRegen\": 12, \"magicPenetrationPercent\": 0, \"summonerSpell1Name\": \"SummonerTeleport\", \"accountID\": 2382564376896896, \"stats\": [{\"name\": \"MINIONS_KILLED\", \"value\": 0}, {\"name\": \"NEUTRAL_MINIONS_KILLED\", \"value\": 0}, {\"name\": \"NEUTRAL_MINIONS_KILLED_YOUR_JUNGLE\", \"value\": 0}, {\"name\": \"NEUTRAL_MINIONS_KILLED_ENEMY_JUNGLE\", \"value\": 0}, {\"name\": \"CHAMPIONS_KILLED\", \"value\": 0}, {\"name\": \"NUM_DEATHS\", \"value\": 0}, {\"name\": \"ASSISTS\", \"value\": 0}, {\"name\": \"PERK0\", \"value\": 0}, {\"name\": \"PERK0_VAR1\", \"value\": 0}, {\"name\": \"PERK0_VAR2\", \"value\": 0}, {\"name\": \"PERK0_VAR3\", \"value\": 0}, {\"name\": \"PERK1\", \"value\": 0}, {\"name\": \"PERK1_VAR1\", \"value\": 0}, {\"name\": \"PERK1_VAR2\", \"value\": 0}, {\"name\": \"PERK1_VAR3\", \"value\": 0}, {\"name\": \"PERK2\", \"value\": 0}, {\"name\": \"PERK2_VAR1\", \"value\": 0}, {\"name\": \"PERK2_VAR2\", \"value\": 0}, {\"name\": \"PERK2_VAR3\", \"value\": 0}, {\"name\": \"PERK3\", \"value\": 0}, {\"name\": \"PERK3_VAR1\", \"value\": 0}, {\"name\": \"PERK3_VAR2\", \"value\": 0}, {\"name\": \"PERK3_VAR3\", \"value\": 0}, {\"name\": \"PERK4\", \"value\": 0}, {\"name\": \"PERK4_VAR1\", \"value\": 0}, {\"name\": \"PERK4_VAR2\", \"value\": 0}, {\"name\": \"PERK4_VAR3\", \"value\": 0}, {\"name\": \"PERK5\", \"value\": 0}, {\"name\": \"PERK5_VAR1\", \"value\": 0}, {\"name\": \"PERK5_VAR2\", \"value\": 0}, {\"name\": \"PERK5_VAR3\", \"value\": 0}, {\"name\": \"WARD_PLACED\", \"value\": 0}, {\"name\": \"WARD_KILLED\", \"value\": 0}, {\"name\": \"VISION_SCORE\", \"value\": 0}, {\"name\": \"TOTAL_DAMAGE_DEALT\", \"value\": 0}, {\"name\": \"PHYSICAL_DAMAGE_DEALT_PLAYER\", \"value\": 0}, {\"name\": \"MAGIC_DAMAGE_DEALT_PLAYER\", \"value\": 0}, {\"name\": \"TRUE_DAMAGE_DEALT_PLAYER\", \"value\": 0}, {\"name\": \"TOTAL_DAMAGE_DEALT_TO_CHAMPIONS\", \"value\": 0}, {\"name\": \"PHYSICAL_DAMAGE_DEALT_TO_CHAMPIONS\", \"value\": 0}, {\"name\": \"MAGIC_DAMAGE_DEALT_TO_CHAMPIONS\", \"value\": 0}, {\"name\": \"TRUE_DAMAGE_DEALT_TO_CHAMPIONS\", \"value\": 0}, {\"name\": \"TOTAL_DAMAGE_TAKEN\", \"value\": 0}, {\"name\": \"PHYSICAL_DAMAGE_TAKEN\", \"value\": 0}, {\"name\": \"MAGIC_DAMAGE_TAKEN\", \"value\": 0}, {\"name\": \"TRUE_DAMAGE_TAKEN\", \"value\": 0}, {\"name\": \"TOTAL_DAMAGE_SELF_MITIGATED\", \"value\": 0}, {\"name\": \"TOTAL_DAMAGE_SHIELDED_ON_TEAMMATES\", \"value\": 0}, {\"name\": \"TOTAL_DAMAGE_DEALT_TO_BUILDINGS\", \"value\": 0}, {\"name\": \"TOTAL_DAMAGE_DEALT_TO_TURRETS\", \"value\": 0}, {\"name\": \"TOTAL_DAMAGE_DEALT_TO_OBJECTIVES\", \"value\": 0}, {\"name\": \"TOTAL_TIME_CROWD_CONTROL_DEALT\", \"value\": 0}, {\"name\": \"TOTAL_HEAL_ON_TEAMMATES\", \"value\": 0}, {\"name\": \"TIME_CCING_OTHERS\", \"value\": 0}], \"totalGold\": 500, \"healthMax\": 640, \"summonerSpell2CooldownRemaining\": 0, \"teamID\": 100, \"armorPenetrationPercentBonus\": 0, \"magicPenetration\": 0, \"primaryAbilityResource\": 375, \"attackDamage\": 72, \"respawnTimer\": 0, \"armorPenetration\": 0, \"primaryAbilityResourceRegen\": 12, \"primaryAbilityResourceMax\": 375, \"summonerSpell2Name\": \"SummonerFlash\", \"lifeSteal\": 0, \"magicResist\": 35, \"abilityPower\": 0, \"level\": 1, \"playerName\": \"V3 Cogcog\", \"currentGold\": 0, \"health\": 640, \"ccReduction\": 0, \"spellVamp\": 0, \"magicPenetrationPercentBonus\": 0, \"armorPenetrationPercent\": 0, \"shutdownValue\": 0, \"cooldownReduction\": 0, \"participantID\": 1, \"armor\": 38, \"ultimateCooldownRemaining\": 0, \"championName\": \"Jayce\", \"attackSpeed\": 100, \"XP\": 0, \"goldPerSecond\": 0, \"position\": {\"x\": 2590, \"z\": 1391}, \"ultimateName\": \"JayceStanceHtG\", \"items\": [{\"itemID\": 1055, \"itemCooldown\": 0}, {\"itemID\": 2003, \"itemCooldown\": 0}]}, {\"alive\": true, \"summonerSpell1CooldownRemaining\": 0, \"healthRegen\": 12, \"magicPenetrationPercent\": 0, \"summonerSpell1Name\": \"SummonerSmite\", \"accountID\": 2638970529081056, \"stats\": [{\"name\": \"MINIONS_KILLED\", \"value\": 0}, {\"name\": \"NEUTRAL_MINIONS_KILLED\", \"value\": 0}, {\"name\": \"NEUTRAL_MINIONS_KILLED_YOUR_JUNGLE\", \"value\": 0}, {\"name\": \"NEUTRAL_MINIONS_KILLED_ENEMY_JUNGLE\", \"value\": 0}, {\"name\": \"CHAMPIONS_KILLED\", \"value\": 0}, {\"name\": \"NUM_DEATHS\", \"value\": 0}, {\"name\": \"ASSISTS\", \"value\": 0}, {\"name\": \"PERK0\", \"value\": 0}, {\"name\": \"PERK0_VAR1\", \"value\": 0}, {\"name\": \"PERK0_VAR2\", \"value\": 0}, {\"name\": \"PERK0_VAR3\", \"value\": 0}, {\"name\": \"PERK1\", \"value\": 0}, {\"name\": \"PERK1_VAR1\", \"value\": 0}, {\"name\": \"PERK1_VAR2\", \"value\": 0}, {\"name\": \"PERK1_VAR3\", \"value\": 0}, {\"name\": \"PERK2\", \"value\": 0}, {\"name\": \"PERK2_VAR1\", \"value\": 0}, {\"name\": \"PERK2_VAR2\", \"value\": 0}, {\"name\": \"PERK2_VAR3\", \"value\": 0}, {\"name\": \"PERK3\", \"value\": 0}, {\"name\": \"PERK3_VAR1\", \"value\": 0}, {\"name\": \"PERK3_VAR2\", \"value\": 0}, {\"name\": \"PERK3_VAR3\", \"value\": 0}, {\"name\": \"PERK4\", \"value\": 0}, {\"name\": \"PERK4_VAR1\", \"value\": 0}, {\"name\": \"PERK4_VAR2\", \"value\": 0}, {\"name\": \"PERK4_VAR3\", \"value\": 0}, {\"name\": \"PERK5\", \"value\": 0}, {\"name\": \"PERK5_VAR1\", \"value\": 0}, {\"name\": \"PERK5_VAR2\", \"value\": 0}, {\"name\": \"PERK5_VAR3\", \"value\": 0}, {\"name\": \"WARD_PLACED\", \"value\": 0}, {\"name\": \"WARD_KILLED\", \"value\": 0}, {\"name\": \"VISION_SCORE\", \"value\": 0}, {\"name\": \"TOTAL_DAMAGE_DEALT\", \"value\": 0}, {\"name\": \"PHYSICAL_DAMAGE_DEALT_PLAYER\", \"value\": 0}, {\"name\": \"MAGIC_DAMAGE_DEALT_PLAYER\", \"value\": 0}, {\"name\": \"TRUE_DAMAGE_DEALT_PLAYER\", \"value\": 0}, {\"name\": \"TOTAL_DAMAGE_DEALT_TO_CHAMPIONS\", \"value\": 0}, {\"name\": \"PHYSICAL_DAMAGE_DEALT_TO_CHAMPIONS\", \"value\": 0}, {\"name\": \"MAGIC_DAMAGE_DEALT_TO_CHAMPIONS\", \"value\": 0}, {\"name\": \"TRUE_DAMAGE_DEALT_TO_CHAMPIONS\", \"value\": 0}, {\"name\": \"TOTAL_DAMAGE_TAKEN\", \"value\": 0}, {\"name\": \"PHYSICAL_DAMAGE_TAKEN\", \"value\": 0}, {\"name\": \"MAGIC_DAMAGE_TAKEN\", \"value\": 0}, {\"name\": \"TRUE_DAMAGE_TAKEN\", \"value\": 0}, {\"name\": \"TOTAL_DAMAGE_SELF_MITIGATED\", \"value\": 0}, {\"name\": \"TOTAL_DAMAGE_SHIELDED_ON_TEAMMATES\", \"value\": 0}, {\"name\": \"TOTAL_DAMAGE_DEALT_TO_BUILDINGS\", \"value\": 0}, {\"name\": \"TOTAL_DAMAGE_DEALT_TO_TURRETS\", \"value\": 0}, {\"name\": \"TOTAL_DAMAGE_DEALT_TO_OBJECTIVES\", \"value\": 0}, {\"name\": \"TOTAL_TIME_CROWD_CONTROL_DEALT\", \"value\": 0}, {\"name\": \"TOTAL_HEAL_ON_TEAMMATES\", \"value\": 0}, {\"name\": \"TIME_CCING_OTHERS\", \"value\": 0}], \"totalGold\": 500, \"healthMax\": 545, \"summonerSpell2CooldownRemaining\": 0, \"teamID\": 100, \"armorPenetrationPercentBonus\": 0, \"magicPenetration\": 0, \"primaryAbilityResource\": 295, \"attackDamage\": 58, \"respawnTimer\": 0, \"armorPenetration\": 0, \"primaryAbilityResourceRegen\": 12, \"primaryAbilityResourceMax\": 295, \"summonerSpell2Name\": \"SummonerFlash\", \"lifeSteal\": 0, \"magicResist\": 38, \"abilityPower\": 9, \"level\": 1, \"playerName\": \"V3 MooJin\", \"currentGold\": 0, \"health\": 545, \"ccReduction\": 0, \"spellVamp\": 0, \"magicPenetrationPercentBonus\": 0, \"armorPenetrationPercent\": 0, \"shutdownValue\": 0, \"cooldownReduction\": 0, \"participantID\": 2, \"armor\": 28, \"ultimateCooldownRemaining\": 0, \"championName\": \"Nidalee\", \"attackSpeed\": 110, \"XP\": 0, \"goldPerSecond\": 0, \"position\": {\"x\": 1739, \"z\": 2473}, \"ultimateName\": \"AspectOfTheCougar\", \"items\": [{\"itemID\": 1035, \"itemCooldown\": 0}, {\"itemID\": 2031, \"itemCooldown\": 0}, {\"itemID\": 3340, \"itemCooldown\": 0}]}, {\"alive\": true, \"summonerSpell1CooldownRemaining\": 0, \"healthRegen\": 28, \"magicPenetrationPercent\": 0, \"summonerSpell1Name\": \"SummonerFlash\", \"accountID\": 2382564199499136, \"stats\": [{\"name\": \"MINIONS_KILLED\", \"value\": 0}, {\"name\": \"NEUTRAL_MINIONS_KILLED\", \"value\": 0}, {\"name\": \"NEUTRAL_MINIONS_KILLED_YOUR_JUNGLE\", \"value\": 0}, {\"name\": \"NEUTRAL_MINIONS_KILLED_ENEMY_JUNGLE\", \"value\": 0}, {\"name\": \"CHAMPIONS_KILLED\", \"value\": 0}, {\"name\": \"NUM_DEATHS\", \"value\": 0}, {\"name\": \"ASSISTS\", \"value\": 0}, {\"name\": \"PERK0\", \"value\": 0}, {\"name\": \"PERK0_VAR1\", \"value\": 0}, {\"name\": \"PERK0_VAR2\", \"value\": 0}, {\"name\": \"PERK0_VAR3\", \"value\": 0}, {\"name\": \"PERK1\", \"value\": 0}, {\"name\": \"PERK1_VAR1\", \"value\": 0}, {\"name\": \"PERK1_VAR2\", \"value\": 0}, {\"name\": \"PERK1_VAR3\", \"value\": 0}, {\"name\": \"PERK2\", \"value\": 0}, {\"name\": \"PERK2_VAR1\", \"value\": 0}, {\"name\": \"PERK2_VAR2\", \"value\": 0}, {\"name\": \"PERK2_VAR3\", \"value\": 0}, {\"name\": \"PERK3\", \"value\": 0}, {\"name\": \"PERK3_VAR1\", \"value\": 0}, {\"name\": \"PERK3_VAR2\", \"value\": 0}, {\"name\": \"PERK3_VAR3\", \"value\": 0}, {\"name\": \"PERK4\", \"value\": 0}, {\"name\": \"PERK4_VAR1\", \"value\": 0}, {\"name\": \"PERK4_VAR2\", \"value\": 0}, {\"name\": \"PERK4_VAR3\", \"value\": 0}, {\"name\": \"PERK5\", \"value\": 0}, {\"name\": \"PERK5_VAR1\", \"value\": 0}, {\"name\": \"PERK5_VAR2\", \"value\": 0}, {\"name\": \"PERK5_VAR3\", \"value\": 0}, {\"name\": \"WARD_PLACED\", \"value\": 0}, {\"name\": \"WARD_KILLED\", \"value\": 0}, {\"name\": \"VISION_SCORE\", \"value\": 0}, {\"name\": \"TOTAL_DAMAGE_DEALT\", \"value\": 0}, {\"name\": \"PHYSICAL_DAMAGE_DEALT_PLAYER\", \"value\": 0}, {\"name\": \"MAGIC_DAMAGE_DEALT_PLAYER\", \"value\": 0}, {\"name\": \"TRUE_DAMAGE_DEALT_PLAYER\", \"value\": 0}, {\"name\": \"TOTAL_DAMAGE_DEALT_TO_CHAMPIONS\", \"value\": 0}, {\"name\": \"PHYSICAL_DAMAGE_DEALT_TO_CHAMPIONS\", \"value\": 0}, {\"name\": \"MAGIC_DAMAGE_DEALT_TO_CHAMPIONS\", \"value\": 0}, {\"name\": \"TRUE_DAMAGE_DEALT_TO_CHAMPIONS\", \"value\": 0}, {\"name\": \"TOTAL_DAMAGE_TAKEN\", \"value\": 0}, {\"name\": \"PHYSICAL_DAMAGE_TAKEN\", \"value\": 0}, {\"name\": \"MAGIC_DAMAGE_TAKEN\", \"value\": 0}, {\"name\": \"TRUE_DAMAGE_TAKEN\", \"value\": 0}, {\"name\": \"TOTAL_DAMAGE_SELF_MITIGATED\", \"value\": 0}, {\"name\": \"TOTAL_DAMAGE_SHIELDED_ON_TEAMMATES\", \"value\": 0}, {\"name\": \"TOTAL_DAMAGE_DEALT_TO_BUILDINGS\", \"value\": 0}, {\"name\": \"TOTAL_DAMAGE_DEALT_TO_TURRETS\", \"value\": 0}, {\"name\": \"TOTAL_DAMAGE_DEALT_TO_OBJECTIVES\", \"value\": 0}, {\"name\": \"TOTAL_TIME_CROWD_CONTROL_DEALT\", \"value\": 0}, {\"name\": \"TOTAL_HEAL_ON_TEAMMATES\", \"value\": 0}, {\"name\": \"TIME_CCING_OTHERS\", \"value\": 0}], \"totalGold\": 500, \"healthMax\": 655, \"summonerSpell2CooldownRemaining\": 0, \"teamID\": 100, \"armorPenetrationPercentBonus\": 0, \"magicPenetration\": 0, \"primaryAbilityResource\": 0, \"attackDamage\": 79, \"respawnTimer\": 0, \"armorPenetration\": 0, \"primaryAbilityResourceRegen\": 0, \"primaryAbilityResourceMax\": 100, \"summonerSpell2Name\": \"SummonerTeleport\", \"lifeSteal\": 0, \"magicResist\": 40, \"abilityPower\": 0, \"level\": 1, \"playerName\": \"V3 Ace\", \"currentGold\": 0, \"health\": 655, \"ccReduction\": 14, \"spellVamp\": 0, \"magicPenetrationPercentBonus\": 0, \"armorPenetrationPercent\": 0, \"shutdownValue\": 0, \"cooldownReduction\": 0, \"participantID\": 3, \"armor\": 35, \"ultimateCooldownRemaining\": 0, \"championName\": \"Renekton\", \"attackSpeed\": 100, \"XP\": 0, \"goldPerSecond\": 0, \"position\": {\"x\": 2922, \"z\": 1272}, \"ultimateName\": \"RenektonReignOfTheTyrant\", \"items\": [{\"itemID\": 1054, \"itemCooldown\": 0}, {\"itemID\": 2003, \"itemCooldown\": 0}]}, {\"alive\": true, \"summonerSpell1CooldownRemaining\": 0, \"healthRegen\": 6, \"magicPenetrationPercent\": 0, \"summonerSpell1Name\": \"SummonerFlash\", \"accountID\": 2638970400409312, \"stats\": [{\"name\": \"MINIONS_KILLED\", \"value\": 0}, {\"name\": \"NEUTRAL_MINIONS_KILLED\", \"value\": 0}, {\"name\": \"NEUTRAL_MINIONS_KILLED_YOUR_JUNGLE\", \"value\": 0}, {\"name\": \"NEUTRAL_MINIONS_KILLED_ENEMY_JUNGLE\", \"value\": 0}, {\"name\": \"CHAMPIONS_KILLED\", \"value\": 0}, {\"name\": \"NUM_DEATHS\", \"value\": 0}, {\"name\": \"ASSISTS\", \"value\": 0}, {\"name\": \"PERK0\", \"value\": 0}, {\"name\": \"PERK0_VAR1\", \"value\": 0}, {\"name\": \"PERK0_VAR2\", \"value\": 0}, {\"name\": \"PERK0_VAR3\", \"value\": 0}, {\"name\": \"PERK1\", \"value\": 0}, {\"name\": \"PERK1_VAR1\", \"value\": 0}, {\"name\": \"PERK1_VAR2\", \"value\": 0}, {\"name\": \"PERK1_VAR3\", \"value\": 0}, {\"name\": \"PERK2\", \"value\": 0}, {\"name\": \"PERK2_VAR1\", \"value\": 0}, {\"name\": \"PERK2_VAR2\", \"value\": 0}, {\"name\": \"PERK2_VAR3\", \"value\": 0}, {\"name\": \"PERK3\", \"value\": 0}, {\"name\": \"PERK3_VAR1\", \"value\": 0}, {\"name\": \"PERK3_VAR2\", \"value\": 0}, {\"name\": \"PERK3_VAR3\", \"value\": 0}, {\"name\": \"PERK4\", \"value\": 0}, {\"name\": \"PERK4_VAR1\", \"value\": 0}, {\"name\": \"PERK4_VAR2\", \"value\": 0}, {\"name\": \"PERK4_VAR3\", \"value\": 0}, {\"name\": \"PERK5\", \"value\": 0}, {\"name\": \"PERK5_VAR1\", \"value\": 0}, {\"name\": \"PERK5_VAR2\", \"value\": 0}, {\"name\": \"PERK5_VAR3\", \"value\": 0}, {\"name\": \"WARD_PLACED\", \"value\": 0}, {\"name\": \"WARD_KILLED\", \"value\": 0}, {\"name\": \"VISION_SCORE\", \"value\": 0}, {\"name\": \"TOTAL_DAMAGE_DEALT\", \"value\": 0}, {\"name\": \"PHYSICAL_DAMAGE_DEALT_PLAYER\", \"value\": 0}, {\"name\": \"MAGIC_DAMAGE_DEALT_PLAYER\", \"value\": 0}, {\"name\": \"TRUE_DAMAGE_DEALT_PLAYER\", \"value\": 0}, {\"name\": \"TOTAL_DAMAGE_DEALT_TO_CHAMPIONS\", \"value\": 0}, {\"name\": \"PHYSICAL_DAMAGE_DEALT_TO_CHAMPIONS\", \"value\": 0}, {\"name\": \"MAGIC_DAMAGE_DEALT_TO_CHAMPIONS\", \"value\": 0}, {\"name\": \"TRUE_DAMAGE_DEALT_TO_CHAMPIONS\", \"value\": 0}, {\"name\": \"TOTAL_DAMAGE_TAKEN\", \"value\": 0}, {\"name\": \"PHYSICAL_DAMAGE_TAKEN\", \"value\": 0}, {\"name\": \"MAGIC_DAMAGE_TAKEN\", \"value\": 0}, {\"name\": \"TRUE_DAMAGE_TAKEN\", \"value\": 0}, {\"name\": \"TOTAL_DAMAGE_SELF_MITIGATED\", \"value\": 0}, {\"name\": \"TOTAL_DAMAGE_SHIELDED_ON_TEAMMATES\", \"value\": 0}, {\"name\": \"TOTAL_DAMAGE_DEALT_TO_BUILDINGS\", \"value\": 0}, {\"name\": \"TOTAL_DAMAGE_DEALT_TO_TURRETS\", \"value\": 0}, {\"name\": \"TOTAL_DAMAGE_DEALT_TO_OBJECTIVES\", \"value\": 0}, {\"name\": \"TOTAL_TIME_CROWD_CONTROL_DEALT\", \"value\": 0}, {\"name\": \"TOTAL_HEAL_ON_TEAMMATES\", \"value\": 0}, {\"name\": \"TIME_CCING_OTHERS\", \"value\": 0}], \"totalGold\": 500, \"healthMax\": 670, \"summonerSpell2CooldownRemaining\": 0, \"teamID\": 100, \"armorPenetrationPercentBonus\": 0, \"magicPenetration\": 0, \"primaryAbilityResource\": 340, \"attackDamage\": 73, \"respawnTimer\": 0, \"armorPenetration\": 0, \"primaryAbilityResourceRegen\": 16, \"primaryAbilityResourceMax\": 340, \"summonerSpell2Name\": \"SummonerHeal\", \"lifeSteal\": 0, \"magicResist\": 30, \"abilityPower\": 0, \"level\": 1, \"playerName\": \"V3 Hollow\", \"currentGold\": 0, \"health\": 670, \"ccReduction\": 0, \"spellVamp\": 0, \"magicPenetrationPercentBonus\": 0, \"armorPenetrationPercent\": 0, \"shutdownValue\": 0, \"cooldownReduction\": 0, \"participantID\": 4, \"armor\": 31, \"ultimateCooldownRemaining\": 0, \"championName\": \"Xayah\", \"attackSpeed\": 110, \"XP\": 0, \"goldPerSecond\": 0, \"position\": {\"x\": 2544, \"z\": 1669}, \"ultimateName\": \"XayahR\", \"items\": [{\"itemID\": 1055, \"itemCooldown\": 0}, {\"itemID\": 2003, \"itemCooldown\": 0}, {\"itemID\": 3340, \"itemCooldown\": 0}]}, {\"alive\": true, \"summonerSpell1CooldownRemaining\": 0, \"healthRegen\": 17, \"magicPenetrationPercent\": 0, \"summonerSpell1Name\": \"SummonerDot\", \"accountID\": 2382564316767616, \"stats\": [{\"name\": \"MINIONS_KILLED\", \"value\": 0}, {\"name\": \"NEUTRAL_MINIONS_KILLED\", \"value\": 0}, {\"name\": \"NEUTRAL_MINIONS_KILLED_YOUR_JUNGLE\", \"value\": 0}, {\"name\": \"NEUTRAL_MINIONS_KILLED_ENEMY_JUNGLE\", \"value\": 0}, {\"name\": \"CHAMPIONS_KILLED\", \"value\": 0}, {\"name\": \"NUM_DEATHS\", \"value\": 0}, {\"name\": \"ASSISTS\", \"value\": 0}, {\"name\": \"PERK0\", \"value\": 0}, {\"name\": \"PERK0_VAR1\", \"value\": 0}, {\"name\": \"PERK0_VAR2\", \"value\": 0}, {\"name\": \"PERK0_VAR3\", \"value\": 0}, {\"name\": \"PERK1\", \"value\": 0}, {\"name\": \"PERK1_VAR1\", \"value\": 0}, {\"name\": \"PERK1_VAR2\", \"value\": 0}, {\"name\": \"PERK1_VAR3\", \"value\": 0}, {\"name\": \"PERK2\", \"value\": 0}, {\"name\": \"PERK2_VAR1\", \"value\": 0}, {\"name\": \"PERK2_VAR2\", \"value\": 0}, {\"name\": \"PERK2_VAR3\", \"value\": 0}, {\"name\": \"PERK3\", \"value\": 0}, {\"name\": \"PERK3_VAR1\", \"value\": 0}, {\"name\": \"PERK3_VAR2\", \"value\": 0}, {\"name\": \"PERK3_VAR3\", \"value\": 0}, {\"name\": \"PERK4\", \"value\": 0}, {\"name\": \"PERK4_VAR1\", \"value\": 0}, {\"name\": \"PERK4_VAR2\", \"value\": 0}, {\"name\": \"PERK4_VAR3\", \"value\": 0}, {\"name\": \"PERK5\", \"value\": 0}, {\"name\": \"PERK5_VAR1\", \"value\": 0}, {\"name\": \"PERK5_VAR2\", \"value\": 0}, {\"name\": \"PERK5_VAR3\", \"value\": 0}, {\"name\": \"WARD_PLACED\", \"value\": 0}, {\"name\": \"WARD_KILLED\", \"value\": 0}, {\"name\": \"VISION_SCORE\", \"value\": 0}, {\"name\": \"TOTAL_DAMAGE_DEALT\", \"value\": 0}, {\"name\": \"PHYSICAL_DAMAGE_DEALT_PLAYER\", \"value\": 0}, {\"name\": \"MAGIC_DAMAGE_DEALT_PLAYER\", \"value\": 0}, {\"name\": \"TRUE_DAMAGE_DEALT_PLAYER\", \"value\": 0}, {\"name\": \"TOTAL_DAMAGE_DEALT_TO_CHAMPIONS\", \"value\": 0}, {\"name\": \"PHYSICAL_DAMAGE_DEALT_TO_CHAMPIONS\", \"value\": 0}, {\"name\": \"MAGIC_DAMAGE_DEALT_TO_CHAMPIONS\", \"value\": 0}, {\"name\": \"TRUE_DAMAGE_DEALT_TO_CHAMPIONS\", \"value\": 0}, {\"name\": \"TOTAL_DAMAGE_TAKEN\", \"value\": 0}, {\"name\": \"PHYSICAL_DAMAGE_TAKEN\", \"value\": 0}, {\"name\": \"MAGIC_DAMAGE_TAKEN\", \"value\": 0}, {\"name\": \"TRUE_DAMAGE_TAKEN\", \"value\": 0}, {\"name\": \"TOTAL_DAMAGE_SELF_MITIGATED\", \"value\": 0}, {\"name\": \"TOTAL_DAMAGE_SHIELDED_ON_TEAMMATES\", \"value\": 0}, {\"name\": \"TOTAL_DAMAGE_DEALT_TO_BUILDINGS\", \"value\": 0}, {\"name\": \"TOTAL_DAMAGE_DEALT_TO_TURRETS\", \"value\": 0}, {\"name\": \"TOTAL_DAMAGE_DEALT_TO_OBJECTIVES\", \"value\": 0}, {\"name\": \"TOTAL_TIME_CROWD_CONTROL_DEALT\", \"value\": 0}, {\"name\": \"TOTAL_HEAL_ON_TEAMMATES\", \"value\": 0}, {\"name\": \"TIME_CCING_OTHERS\", \"value\": 0}], \"totalGold\": 500, \"healthMax\": 591, \"summonerSpell2CooldownRemaining\": 0, \"teamID\": 100, \"armorPenetrationPercentBonus\": 0, \"magicPenetration\": 0, \"primaryAbilityResource\": 274, \"attackDamage\": 56, \"respawnTimer\": 0, \"armorPenetration\": 0, \"primaryAbilityResourceRegen\": 12, \"primaryAbilityResourceMax\": 274, \"summonerSpell2Name\": \"SummonerFlash\", \"lifeSteal\": 0, \"magicResist\": 38, \"abilityPower\": 5, \"level\": 1, \"playerName\": \"V3 Raina\", \"currentGold\": 0, \"health\": 591, \"ccReduction\": 10, \"spellVamp\": 0, \"magicPenetrationPercentBonus\": 0, \"armorPenetrationPercent\": 0, \"shutdownValue\": 0, \"cooldownReduction\": 0, \"participantID\": 5, \"armor\": 34, \"ultimateCooldownRemaining\": 0, \"championName\": \"Thresh\", \"attackSpeed\": 100, \"XP\": 0, \"goldPerSecond\": 20, \"position\": {\"x\": 2985, \"z\": 766}, \"ultimateName\": \"ThreshRPenta\", \"items\": [{\"itemID\": 2403, \"itemCooldown\": 161.61270141601562}, {\"itemID\": 3858, \"itemCooldown\": 0}, {\"itemID\": 2003, \"itemCooldown\": 0}, {\"itemID\": 3364, \"itemCooldown\": 0}]}, {\"alive\": true, \"summonerSpell1CooldownRemaining\": 0, \"healthRegen\": 21, \"magicPenetrationPercent\": 0, \"summonerSpell1Name\": \"SummonerTeleport\", \"accountID\": 2382563528967552, \"stats\": [{\"name\": \"MINIONS_KILLED\", \"value\": 0}, {\"name\": \"NEUTRAL_MINIONS_KILLED\", \"value\": 0}, {\"name\": \"NEUTRAL_MINIONS_KILLED_YOUR_JUNGLE\", \"value\": 0}, {\"name\": \"NEUTRAL_MINIONS_KILLED_ENEMY_JUNGLE\", \"value\": 0}, {\"name\": \"CHAMPIONS_KILLED\", \"value\": 0}, {\"name\": \"NUM_DEATHS\", \"value\": 0}, {\"name\": \"ASSISTS\", \"value\": 0}, {\"name\": \"PERK0\", \"value\": 0}, {\"name\": \"PERK0_VAR1\", \"value\": 0}, {\"name\": \"PERK0_VAR2\", \"value\": 0}, {\"name\": \"PERK0_VAR3\", \"value\": 0}, {\"name\": \"PERK1\", \"value\": 0}, {\"name\": \"PERK1_VAR1\", \"value\": 0}, {\"name\": \"PERK1_VAR2\", \"value\": 0}, {\"name\": \"PERK1_VAR3\", \"value\": 0}, {\"name\": \"PERK2\", \"value\": 0}, {\"name\": \"PERK2_VAR1\", \"value\": 0}, {\"name\": \"PERK2_VAR2\", \"value\": 0}, {\"name\": \"PERK2_VAR3\", \"value\": 0}, {\"name\": \"PERK3\", \"value\": 0}, {\"name\": \"PERK3_VAR1\", \"value\": 0}, {\"name\": \"PERK3_VAR2\", \"value\": 0}, {\"name\": \"PERK3_VAR3\", \"value\": 0}, {\"name\": \"PERK4\", \"value\": 0}, {\"name\": \"PERK4_VAR1\", \"value\": 0}, {\"name\": \"PERK4_VAR2\", \"value\": 0}, {\"name\": \"PERK4_VAR3\", \"value\": 0}, {\"name\": \"PERK5\", \"value\": 0}, {\"name\": \"PERK5_VAR1\", \"value\": 0}, {\"name\": \"PERK5_VAR2\", \"value\": 0}, {\"name\": \"PERK5_VAR3\", \"value\": 0}, {\"name\": \"WARD_PLACED\", \"value\": 0}, {\"name\": \"WARD_KILLED\", \"value\": 0}, {\"name\": \"VISION_SCORE\", \"value\": 0}, {\"name\": \"TOTAL_DAMAGE_DEALT\", \"value\": 0}, {\"name\": \"PHYSICAL_DAMAGE_DEALT_PLAYER\", \"value\": 0}, {\"name\": \"MAGIC_DAMAGE_DEALT_PLAYER\", \"value\": 0}, {\"name\": \"TRUE_DAMAGE_DEALT_PLAYER\", \"value\": 0}, {\"name\": \"TOTAL_DAMAGE_DEALT_TO_CHAMPIONS\", \"value\": 0}, {\"name\": \"PHYSICAL_DAMAGE_DEALT_TO_CHAMPIONS\", \"value\": 0}, {\"name\": \"MAGIC_DAMAGE_DEALT_TO_CHAMPIONS\", \"value\": 0}, {\"name\": \"TRUE_DAMAGE_DEALT_TO_CHAMPIONS\", \"value\": 0}, {\"name\": \"TOTAL_DAMAGE_TAKEN\", \"value\": 0}, {\"name\": \"PHYSICAL_DAMAGE_TAKEN\", \"value\": 0}, {\"name\": \"MAGIC_DAMAGE_TAKEN\", \"value\": 0}, {\"name\": \"TRUE_DAMAGE_TAKEN\", \"value\": 0}, {\"name\": \"TOTAL_DAMAGE_SELF_MITIGATED\", \"value\": 0}, {\"name\": \"TOTAL_DAMAGE_SHIELDED_ON_TEAMMATES\", \"value\": 0}, {\"name\": \"TOTAL_DAMAGE_DEALT_TO_BUILDINGS\", \"value\": 0}, {\"name\": \"TOTAL_DAMAGE_DEALT_TO_TURRETS\", \"value\": 0}, {\"name\": \"TOTAL_DAMAGE_DEALT_TO_OBJECTIVES\", \"value\": 0}, {\"name\": \"TOTAL_TIME_CROWD_CONTROL_DEALT\", \"value\": 0}, {\"name\": \"TOTAL_HEAL_ON_TEAMMATES\", \"value\": 0}, {\"name\": \"TIME_CCING_OTHERS\", \"value\": 0}], \"totalGold\": 500, \"healthMax\": 590, \"summonerSpell2CooldownRemaining\": 0, \"teamID\": 200, \"armorPenetrationPercentBonus\": 0, \"magicPenetration\": 0, \"primaryAbilityResource\": 0, \"attackDamage\": 64, \"respawnTimer\": 0, \"armorPenetration\": 0, \"primaryAbilityResourceRegen\": 0, \"primaryAbilityResourceMax\": 100, \"summonerSpell2Name\": \"SummonerFlash\", \"lifeSteal\": 0, \"magicResist\": 30, \"abilityPower\": 0, \"level\": 1, \"playerName\": \"DFM Evi\", \"currentGold\": 0, \"health\": 590, \"ccReduction\": 0, \"spellVamp\": 0, \"magicPenetrationPercentBonus\": 0, \"armorPenetrationPercent\": 0, \"shutdownValue\": 0, \"cooldownReduction\": 0, \"participantID\": 6, \"armor\": 38, \"ultimateCooldownRemaining\": 0, \"championName\": \"Gnar\", \"attackSpeed\": 115, \"XP\": 0, \"goldPerSecond\": 0, \"position\": {\"x\": 11739, \"z\": 14008}, \"ultimateName\": \"GnarR\", \"items\": [{\"itemID\": 1054, \"itemCooldown\": 0}, {\"itemID\": 2003, \"itemCooldown\": 0}]}, {\"alive\": true, \"summonerSpell1CooldownRemaining\": 0, \"healthRegen\": 18, \"magicPenetrationPercent\": 0, \"summonerSpell1Name\": \"SummonerSmite\", \"accountID\": 2382563619997056, \"stats\": [{\"name\": \"MINIONS_KILLED\", \"value\": 0}, {\"name\": \"NEUTRAL_MINIONS_KILLED\", \"value\": 0}, {\"name\": \"NEUTRAL_MINIONS_KILLED_YOUR_JUNGLE\", \"value\": 0}, {\"name\": \"NEUTRAL_MINIONS_KILLED_ENEMY_JUNGLE\", \"value\": 0}, {\"name\": \"CHAMPIONS_KILLED\", \"value\": 0}, {\"name\": \"NUM_DEATHS\", \"value\": 0}, {\"name\": \"ASSISTS\", \"value\": 0}, {\"name\": \"PERK0\", \"value\": 0}, {\"name\": \"PERK0_VAR1\", \"value\": 0}, {\"name\": \"PERK0_VAR2\", \"value\": 0}, {\"name\": \"PERK0_VAR3\", \"value\": 0}, {\"name\": \"PERK1\", \"value\": 0}, {\"name\": \"PERK1_VAR1\", \"value\": 0}, {\"name\": \"PERK1_VAR2\", \"value\": 0}, {\"name\": \"PERK1_VAR3\", \"value\": 0}, {\"name\": \"PERK2\", \"value\": 0}, {\"name\": \"PERK2_VAR1\", \"value\": 0}, {\"name\": \"PERK2_VAR2\", \"value\": 0}, {\"name\": \"PERK2_VAR3\", \"value\": 0}, {\"name\": \"PERK3\", \"value\": 0}, {\"name\": \"PERK3_VAR1\", \"value\": 0}, {\"name\": \"PERK3_VAR2\", \"value\": 0}, {\"name\": \"PERK3_VAR3\", \"value\": 0}, {\"name\": \"PERK4\", \"value\": 0}, {\"name\": \"PERK4_VAR1\", \"value\": 0}, {\"name\": \"PERK4_VAR2\", \"value\": 0}, {\"name\": \"PERK4_VAR3\", \"value\": 0}, {\"name\": \"PERK5\", \"value\": 0}, {\"name\": \"PERK5_VAR1\", \"value\": 0}, {\"name\": \"PERK5_VAR2\", \"value\": 0}, {\"name\": \"PERK5_VAR3\", \"value\": 0}, {\"name\": \"WARD_PLACED\", \"value\": 0}, {\"name\": \"WARD_KILLED\", \"value\": 0}, {\"name\": \"VISION_SCORE\", \"value\": 0}, {\"name\": \"TOTAL_DAMAGE_DEALT\", \"value\": 0}, {\"name\": \"PHYSICAL_DAMAGE_DEALT_PLAYER\", \"value\": 0}, {\"name\": \"MAGIC_DAMAGE_DEALT_PLAYER\", \"value\": 0}, {\"name\": \"TRUE_DAMAGE_DEALT_PLAYER\", \"value\": 0}, {\"name\": \"TOTAL_DAMAGE_DEALT_TO_CHAMPIONS\", \"value\": 0}, {\"name\": \"PHYSICAL_DAMAGE_DEALT_TO_CHAMPIONS\", \"value\": 0}, {\"name\": \"MAGIC_DAMAGE_DEALT_TO_CHAMPIONS\", \"value\": 0}, {\"name\": \"TRUE_DAMAGE_DEALT_TO_CHAMPIONS\", \"value\": 0}, {\"name\": \"TOTAL_DAMAGE_TAKEN\", \"value\": 0}, {\"name\": \"PHYSICAL_DAMAGE_TAKEN\", \"value\": 0}, {\"name\": \"MAGIC_DAMAGE_TAKEN\", \"value\": 0}, {\"name\": \"TRUE_DAMAGE_TAKEN\", \"value\": 0}, {\"name\": \"TOTAL_DAMAGE_SELF_MITIGATED\", \"value\": 0}, {\"name\": \"TOTAL_DAMAGE_SHIELDED_ON_TEAMMATES\", \"value\": 0}, {\"name\": \"TOTAL_DAMAGE_DEALT_TO_BUILDINGS\", \"value\": 0}, {\"name\": \"TOTAL_DAMAGE_DEALT_TO_TURRETS\", \"value\": 0}, {\"name\": \"TOTAL_DAMAGE_DEALT_TO_OBJECTIVES\", \"value\": 0}, {\"name\": \"TOTAL_TIME_CROWD_CONTROL_DEALT\", \"value\": 0}, {\"name\": \"TOTAL_HEAL_ON_TEAMMATES\", \"value\": 0}, {\"name\": \"TIME_CCING_OTHERS\", \"value\": 0}], \"totalGold\": 500, \"healthMax\": 580, \"summonerSpell2CooldownRemaining\": 0, \"teamID\": 200, \"armorPenetrationPercentBonus\": 0, \"magicPenetration\": 0, \"primaryAbilityResource\": 410, \"attackDamage\": 61, \"respawnTimer\": 0, \"armorPenetration\": 0, \"primaryAbilityResourceRegen\": 23, \"primaryAbilityResourceMax\": 410, \"summonerSpell2Name\": \"SummonerFlash\", \"lifeSteal\": 0, \"magicResist\": 32, \"abilityPower\": 9, \"level\": 1, \"playerName\": \"DFM Steal\", \"currentGold\": 0, \"health\": 580, \"ccReduction\": 0, \"spellVamp\": 0, \"magicPenetrationPercentBonus\": 0, \"armorPenetrationPercent\": 0, \"shutdownValue\": 0, \"cooldownReduction\": 0, \"participantID\": 7, \"armor\": 26, \"ultimateCooldownRemaining\": 0, \"championName\": \"Lillia\", \"attackSpeed\": 110, \"XP\": 0, \"goldPerSecond\": 0, \"position\": {\"x\": 11990, \"z\": 13238}, \"ultimateName\": \"LilliaR\", \"items\": [{\"itemID\": 1039, \"itemCooldown\": 0}, {\"itemID\": 2031, \"itemCooldown\": 0}]}, {\"alive\": true, \"summonerSpell1CooldownRemaining\": 0, \"healthRegen\": 14, \"magicPenetrationPercent\": 0, \"summonerSpell1Name\": \"SummonerTeleport\", \"accountID\": 2382565080131136, \"stats\": [{\"name\": \"MINIONS_KILLED\", \"value\": 0}, {\"name\": \"NEUTRAL_MINIONS_KILLED\", \"value\": 0}, {\"name\": \"NEUTRAL_MINIONS_KILLED_YOUR_JUNGLE\", \"value\": 0}, {\"name\": \"NEUTRAL_MINIONS_KILLED_ENEMY_JUNGLE\", \"value\": 0}, {\"name\": \"CHAMPIONS_KILLED\", \"value\": 0}, {\"name\": \"NUM_DEATHS\", \"value\": 0}, {\"name\": \"ASSISTS\", \"value\": 0}, {\"name\": \"PERK0\", \"value\": 0}, {\"name\": \"PERK0_VAR1\", \"value\": 0}, {\"name\": \"PERK0_VAR2\", \"value\": 0}, {\"name\": \"PERK0_VAR3\", \"value\": 0}, {\"name\": \"PERK1\", \"value\": 0}, {\"name\": \"PERK1_VAR1\", \"value\": 0}, {\"name\": \"PERK1_VAR2\", \"value\": 0}, {\"name\": \"PERK1_VAR3\", \"value\": 0}, {\"name\": \"PERK2\", \"value\": 0}, {\"name\": \"PERK2_VAR1\", \"value\": 0}, {\"name\": \"PERK2_VAR2\", \"value\": 0}, {\"name\": \"PERK2_VAR3\", \"value\": 0}, {\"name\": \"PERK3\", \"value\": 0}, {\"name\": \"PERK3_VAR1\", \"value\": 0}, {\"name\": \"PERK3_VAR2\", \"value\": 0}, {\"name\": \"PERK3_VAR3\", \"value\": 0}, {\"name\": \"PERK4\", \"value\": 0}, {\"name\": \"PERK4_VAR1\", \"value\": 0}, {\"name\": \"PERK4_VAR2\", \"value\": 0}, {\"name\": \"PERK4_VAR3\", \"value\": 0}, {\"name\": \"PERK5\", \"value\": 0}, {\"name\": \"PERK5_VAR1\", \"value\": 0}, {\"name\": \"PERK5_VAR2\", \"value\": 0}, {\"name\": \"PERK5_VAR3\", \"value\": 0}, {\"name\": \"WARD_PLACED\", \"value\": 0}, {\"name\": \"WARD_KILLED\", \"value\": 0}, {\"name\": \"VISION_SCORE\", \"value\": 0}, {\"name\": \"TOTAL_DAMAGE_DEALT\", \"value\": 0}, {\"name\": \"PHYSICAL_DAMAGE_DEALT_PLAYER\", \"value\": 0}, {\"name\": \"MAGIC_DAMAGE_DEALT_PLAYER\", \"value\": 0}, {\"name\": \"TRUE_DAMAGE_DEALT_PLAYER\", \"value\": 0}, {\"name\": \"TOTAL_DAMAGE_DEALT_TO_CHAMPIONS\", \"value\": 0}, {\"name\": \"PHYSICAL_DAMAGE_DEALT_TO_CHAMPIONS\", \"value\": 0}, {\"name\": \"MAGIC_DAMAGE_DEALT_TO_CHAMPIONS\", \"value\": 0}, {\"name\": \"TRUE_DAMAGE_DEALT_TO_CHAMPIONS\", \"value\": 0}, {\"name\": \"TOTAL_DAMAGE_TAKEN\", \"value\": 0}, {\"name\": \"PHYSICAL_DAMAGE_TAKEN\", \"value\": 0}, {\"name\": \"MAGIC_DAMAGE_TAKEN\", \"value\": 0}, {\"name\": \"TRUE_DAMAGE_TAKEN\", \"value\": 0}, {\"name\": \"TOTAL_DAMAGE_SELF_MITIGATED\", \"value\": 0}, {\"name\": \"TOTAL_DAMAGE_SHIELDED_ON_TEAMMATES\", \"value\": 0}, {\"name\": \"TOTAL_DAMAGE_DEALT_TO_BUILDINGS\", \"value\": 0}, {\"name\": \"TOTAL_DAMAGE_DEALT_TO_TURRETS\", \"value\": 0}, {\"name\": \"TOTAL_DAMAGE_DEALT_TO_OBJECTIVES\", \"value\": 0}, {\"name\": \"TOTAL_TIME_CROWD_CONTROL_DEALT\", \"value\": 0}, {\"name\": \"TOTAL_HEAL_ON_TEAMMATES\", \"value\": 0}, {\"name\": \"TIME_CCING_OTHERS\", \"value\": 0}], \"totalGold\": 500, \"healthMax\": 600, \"summonerSpell2CooldownRemaining\": 0, \"teamID\": 200, \"armorPenetrationPercentBonus\": 0, \"magicPenetration\": 0, \"primaryAbilityResource\": 418, \"attackDamage\": 40, \"respawnTimer\": 0, \"armorPenetration\": 0, \"primaryAbilityResourceRegen\": 16, \"primaryAbilityResourceMax\": 418, \"summonerSpell2Name\": \"SummonerFlash\", \"lifeSteal\": 0, \"magicResist\": 26, \"abilityPower\": 24, \"level\": 1, \"playerName\": \"DFM Aria\", \"currentGold\": 0, \"health\": 600, \"ccReduction\": 0, \"spellVamp\": 0, \"magicPenetrationPercentBonus\": 0, \"armorPenetrationPercent\": 0, \"shutdownValue\": 0, \"cooldownReduction\": 0, \"participantID\": 8, \"armor\": 23, \"ultimateCooldownRemaining\": 0, \"championName\": \"Orianna\", \"attackSpeed\": 110, \"XP\": 0, \"goldPerSecond\": 0, \"position\": {\"x\": 12944, \"z\": 12268}, \"ultimateName\": \"OrianaDetonateCommand\", \"items\": [{\"itemID\": 1056, \"itemCooldown\": 0}, {\"itemID\": 2003, \"itemCooldown\": 0}]}, {\"alive\": true, \"summonerSpell1CooldownRemaining\": 0, \"healthRegen\": 7, \"magicPenetrationPercent\": 0, \"summonerSpell1Name\": \"SummonerBoost\", \"accountID\": 2382563730998560, \"stats\": [{\"name\": \"MINIONS_KILLED\", \"value\": 0}, {\"name\": \"NEUTRAL_MINIONS_KILLED\", \"value\": 0}, {\"name\": \"NEUTRAL_MINIONS_KILLED_YOUR_JUNGLE\", \"value\": 0}, {\"name\": \"NEUTRAL_MINIONS_KILLED_ENEMY_JUNGLE\", \"value\": 0}, {\"name\": \"CHAMPIONS_KILLED\", \"value\": 0}, {\"name\": \"NUM_DEATHS\", \"value\": 0}, {\"name\": \"ASSISTS\", \"value\": 0}, {\"name\": \"PERK0\", \"value\": 0}, {\"name\": \"PERK0_VAR1\", \"value\": 0}, {\"name\": \"PERK0_VAR2\", \"value\": 0}, {\"name\": \"PERK0_VAR3\", \"value\": 0}, {\"name\": \"PERK1\", \"value\": 0}, {\"name\": \"PERK1_VAR1\", \"value\": 0}, {\"name\": \"PERK1_VAR2\", \"value\": 0}, {\"name\": \"PERK1_VAR3\", \"value\": 0}, {\"name\": \"PERK2\", \"value\": 0}, {\"name\": \"PERK2_VAR1\", \"value\": 0}, {\"name\": \"PERK2_VAR2\", \"value\": 0}, {\"name\": \"PERK2_VAR3\", \"value\": 0}, {\"name\": \"PERK3\", \"value\": 0}, {\"name\": \"PERK3_VAR1\", \"value\": 0}, {\"name\": \"PERK3_VAR2\", \"value\": 0}, {\"name\": \"PERK3_VAR3\", \"value\": 0}, {\"name\": \"PERK4\", \"value\": 0}, {\"name\": \"PERK4_VAR1\", \"value\": 0}, {\"name\": \"PERK4_VAR2\", \"value\": 0}, {\"name\": \"PERK4_VAR3\", \"value\": 0}, {\"name\": \"PERK5\", \"value\": 0}, {\"name\": \"PERK5_VAR1\", \"value\": 0}, {\"name\": \"PERK5_VAR2\", \"value\": 0}, {\"name\": \"PERK5_VAR3\", \"value\": 0}, {\"name\": \"WARD_PLACED\", \"value\": 0}, {\"name\": \"WARD_KILLED\", \"value\": 0}, {\"name\": \"VISION_SCORE\", \"value\": 0}, {\"name\": \"TOTAL_DAMAGE_DEALT\", \"value\": 0}, {\"name\": \"PHYSICAL_DAMAGE_DEALT_PLAYER\", \"value\": 0}, {\"name\": \"MAGIC_DAMAGE_DEALT_PLAYER\", \"value\": 0}, {\"name\": \"TRUE_DAMAGE_DEALT_PLAYER\", \"value\": 0}, {\"name\": \"TOTAL_DAMAGE_DEALT_TO_CHAMPIONS\", \"value\": 0}, {\"name\": \"PHYSICAL_DAMAGE_DEALT_TO_CHAMPIONS\", \"value\": 0}, {\"name\": \"MAGIC_DAMAGE_DEALT_TO_CHAMPIONS\", \"value\": 0}, {\"name\": \"TRUE_DAMAGE_DEALT_TO_CHAMPIONS\", \"value\": 0}, {\"name\": \"TOTAL_DAMAGE_TAKEN\", \"value\": 0}, {\"name\": \"PHYSICAL_DAMAGE_TAKEN\", \"value\": 0}, {\"name\": \"MAGIC_DAMAGE_TAKEN\", \"value\": 0}, {\"name\": \"TRUE_DAMAGE_TAKEN\", \"value\": 0}, {\"name\": \"TOTAL_DAMAGE_SELF_MITIGATED\", \"value\": 0}, {\"name\": \"TOTAL_DAMAGE_SHIELDED_ON_TEAMMATES\", \"value\": 0}, {\"name\": \"TOTAL_DAMAGE_DEALT_TO_BUILDINGS\", \"value\": 0}, {\"name\": \"TOTAL_DAMAGE_DEALT_TO_TURRETS\", \"value\": 0}, {\"name\": \"TOTAL_DAMAGE_DEALT_TO_OBJECTIVES\", \"value\": 0}, {\"name\": \"TOTAL_TIME_CROWD_CONTROL_DEALT\", \"value\": 0}, {\"name\": \"TOTAL_HEAL_ON_TEAMMATES\", \"value\": 0}, {\"name\": \"TIME_CCING_OTHERS\", \"value\": 0}], \"totalGold\": 500, \"healthMax\": 680, \"summonerSpell2CooldownRemaining\": 0, \"teamID\": 200, \"armorPenetrationPercentBonus\": 0, \"magicPenetration\": 0, \"primaryAbilityResource\": 344, \"attackDamage\": 72, \"respawnTimer\": 0, \"armorPenetration\": 0, \"primaryAbilityResourceRegen\": 16, \"primaryAbilityResourceMax\": 344, \"summonerSpell2Name\": \"SummonerFlash\", \"lifeSteal\": 0, \"magicResist\": 30, \"abilityPower\": 0, \"level\": 1, \"playerName\": \"DFM Yutapon\", \"currentGold\": 0, \"health\": 680, \"ccReduction\": 0, \"spellVamp\": 0, \"magicPenetrationPercentBonus\": 0, \"armorPenetrationPercent\": 0, \"shutdownValue\": 0, \"cooldownReduction\": 0, \"participantID\": 9, \"armor\": 34, \"ultimateCooldownRemaining\": 0, \"championName\": \"Kaisa\", \"attackSpeed\": 110, \"XP\": 0, \"goldPerSecond\": 0, \"position\": {\"x\": 12960, \"z\": 12321}, \"ultimateName\": \"KaisaR\", \"items\": [{\"itemID\": 1055, \"itemCooldown\": 0}, {\"itemID\": 2003, \"itemCooldown\": 0}]}, {\"alive\": true, \"summonerSpell1CooldownRemaining\": 0, \"healthRegen\": 21, \"magicPenetrationPercent\": 0, \"summonerSpell1Name\": \"SummonerDot\", \"accountID\": 2638958287816416, \"stats\": [{\"name\": \"MINIONS_KILLED\", \"value\": 0}, {\"name\": \"NEUTRAL_MINIONS_KILLED\", \"value\": 0}, {\"name\": \"NEUTRAL_MINIONS_KILLED_YOUR_JUNGLE\", \"value\": 0}, {\"name\": \"NEUTRAL_MINIONS_KILLED_ENEMY_JUNGLE\", \"value\": 0}, {\"name\": \"CHAMPIONS_KILLED\", \"value\": 0}, {\"name\": \"NUM_DEATHS\", \"value\": 0}, {\"name\": \"ASSISTS\", \"value\": 0}, {\"name\": \"PERK0\", \"value\": 0}, {\"name\": \"PERK0_VAR1\", \"value\": 0}, {\"name\": \"PERK0_VAR2\", \"value\": 0}, {\"name\": \"PERK0_VAR3\", \"value\": 0}, {\"name\": \"PERK1\", \"value\": 0}, {\"name\": \"PERK1_VAR1\", \"value\": 0}, {\"name\": \"PERK1_VAR2\", \"value\": 0}, {\"name\": \"PERK1_VAR3\", \"value\": 0}, {\"name\": \"PERK2\", \"value\": 0}, {\"name\": \"PERK2_VAR1\", \"value\": 0}, {\"name\": \"PERK2_VAR2\", \"value\": 0}, {\"name\": \"PERK2_VAR3\", \"value\": 0}, {\"name\": \"PERK3\", \"value\": 0}, {\"name\": \"PERK3_VAR1\", \"value\": 0}, {\"name\": \"PERK3_VAR2\", \"value\": 0}, {\"name\": \"PERK3_VAR3\", \"value\": 0}, {\"name\": \"PERK4\", \"value\": 0}, {\"name\": \"PERK4_VAR1\", \"value\": 0}, {\"name\": \"PERK4_VAR2\", \"value\": 0}, {\"name\": \"PERK4_VAR3\", \"value\": 0}, {\"name\": \"PERK5\", \"value\": 0}, {\"name\": \"PERK5_VAR1\", \"value\": 0}, {\"name\": \"PERK5_VAR2\", \"value\": 0}, {\"name\": \"PERK5_VAR3\", \"value\": 0}, {\"name\": \"WARD_PLACED\", \"value\": 0}, {\"name\": \"WARD_KILLED\", \"value\": 0}, {\"name\": \"VISION_SCORE\", \"value\": 0}, {\"name\": \"TOTAL_DAMAGE_DEALT\", \"value\": 0}, {\"name\": \"PHYSICAL_DAMAGE_DEALT_PLAYER\", \"value\": 0}, {\"name\": \"MAGIC_DAMAGE_DEALT_PLAYER\", \"value\": 0}, {\"name\": \"TRUE_DAMAGE_DEALT_PLAYER\", \"value\": 0}, {\"name\": \"TOTAL_DAMAGE_DEALT_TO_CHAMPIONS\", \"value\": 0}, {\"name\": \"PHYSICAL_DAMAGE_DEALT_TO_CHAMPIONS\", \"value\": 0}, {\"name\": \"MAGIC_DAMAGE_DEALT_TO_CHAMPIONS\", \"value\": 0}, {\"name\": \"TRUE_DAMAGE_DEALT_TO_CHAMPIONS\", \"value\": 0}, {\"name\": \"TOTAL_DAMAGE_TAKEN\", \"value\": 0}, {\"name\": \"PHYSICAL_DAMAGE_TAKEN\", \"value\": 0}, {\"name\": \"MAGIC_DAMAGE_TAKEN\", \"value\": 0}, {\"name\": \"TRUE_DAMAGE_TAKEN\", \"value\": 0}, {\"name\": \"TOTAL_DAMAGE_SELF_MITIGATED\", \"value\": 0}, {\"name\": \"TOTAL_DAMAGE_SHIELDED_ON_TEAMMATES\", \"value\": 0}, {\"name\": \"TOTAL_DAMAGE_DEALT_TO_BUILDINGS\", \"value\": 0}, {\"name\": \"TOTAL_DAMAGE_DEALT_TO_TURRETS\", \"value\": 0}, {\"name\": \"TOTAL_DAMAGE_DEALT_TO_OBJECTIVES\", \"value\": 0}, {\"name\": \"TOTAL_TIME_CROWD_CONTROL_DEALT\", \"value\": 0}, {\"name\": \"TOTAL_HEAL_ON_TEAMMATES\", \"value\": 0}, {\"name\": \"TIME_CCING_OTHERS\", \"value\": 0}], \"totalGold\": 500, \"healthMax\": 630, \"summonerSpell2CooldownRemaining\": 0, \"teamID\": 200, \"armorPenetrationPercentBonus\": 0, \"magicPenetration\": 0, \"primaryAbilityResource\": 350, \"attackDamage\": 62, \"respawnTimer\": 0, \"armorPenetration\": 0, \"primaryAbilityResourceRegen\": 17, \"primaryAbilityResourceMax\": 350, \"summonerSpell2Name\": \"SummonerFlash\", \"lifeSteal\": 0, \"magicResist\": 32, \"abilityPower\": 14, \"level\": 1, \"playerName\": \"DFM Kazu\", \"currentGold\": 0, \"health\": 630, \"ccReduction\": 10, \"spellVamp\": 0, \"magicPenetrationPercentBonus\": 0, \"armorPenetrationPercent\": 0, \"shutdownValue\": 0, \"cooldownReduction\": 0, \"participantID\": 10, \"armor\": 56, \"ultimateCooldownRemaining\": 0, \"championName\": \"Alistar\", \"attackSpeed\": 100, \"XP\": 0, \"goldPerSecond\": 20, \"position\": {\"x\": 13052, \"z\": 12273}, \"ultimateName\": \"FerociousHowl\", \"items\": [{\"itemID\": 2403, \"itemCooldown\": 161.61270141601562}, {\"itemID\": 3858, \"itemCooldown\": 0}, {\"itemID\": 2003, \"itemCooldown\": 0}, {\"itemID\": 3340, \"itemCooldown\": 0}]}], \"stageID\": 1}, \"skill_level_up\": {\"gameID\": 1720186, \"rfc001Scope\": \"riot.lol.mgs.sx\", \"sequenceIndex\": 71, \"skillSlot\": 1, \"rfc460Timestamp\": \"2021-01-23T04:25:02.793Z\", \"evolved\": false, \"platformID\": \"ESPORTSTMNT01\", \"rfc190Scope\": \"test.unk1.unk.lolgame.legs\", \"participant\": 8, \"playbackID\": 1, \"gameTime\": 29678, \"gameName\": \"105562833913467203|game1\", \"rfc460Hostname\": \"0.0.0.0\", \"rfc461Schema\": \"skill_level_up\", \"stageID\": 1}, \"ward_placed\": {\"gameID\": 1720186, \"rfc001Scope\": \"riot.lol.mgs.sx\", \"sequenceIndex\": 96, \"rfc460Timestamp\": \"2021-01-23T04:25:27.632Z\", \"platformID\": \"ESPORTSTMNT01\", \"rfc190Scope\": \"test.unk1.unk.lolgame.legs\", \"wardType\": \"yellowTrinket\", \"playbackID\": 1, \"gameTime\": 54515, \"gameName\": \"105562833913467203|game1\", \"placer\": 2, \"position\": {\"x\": 5564, \"z\": 8996}, \"rfc460Hostname\": \"0.0.0.0\", \"rfc461Schema\": \"ward_placed\", \"stageID\": 1}, \"item_destroyed\": {\"gameID\": 1720186, \"rfc001Scope\": \"riot.lol.mgs.sx\", \"sequenceIndex\": 98, \"rfc460Timestamp\": \"2021-01-23T04:25:29.243Z\", \"platformID\": \"ESPORTSTMNT01\", \"rfc190Scope\": \"test.unk1.unk.lolgame.legs\", \"participantID\": 2, \"itemID\": 3340, \"playbackID\": 1, \"gameTime\": 56128, \"gameName\": \"105562833913467203|game1\", \"rfc460Hostname\": \"0.0.0.0\", \"rfc461Schema\": \"item_destroyed\", \"stageID\": 1}, \"item_purchased\": {\"gameID\": 1720186, \"rfc001Scope\": \"riot.lol.mgs.sx\", \"sequenceIndex\": 99, \"rfc460Timestamp\": \"2021-01-23T04:25:29.243Z\", \"platformID\": \"ESPORTSTMNT01\", \"rfc190Scope\": \"test.unk1.unk.lolgame.legs\", \"participantID\": 2, \"itemID\": 3364, \"playbackID\": 1, \"gameTime\": 56128, \"gameName\": \"105562833913467203|game1\", \"rfc460Hostname\": \"0.0.0.0\", \"rfc461Schema\": \"item_purchased\", \"stageID\": 1}, \"epic_monster_kill\": {\"gameID\": 1720186, \"rfc001Scope\": \"riot.lol.mgs.sx\", \"sequenceIndex\": 515, \"assistants\": [], \"inEnemyJungle\": false, \"rfc460Timestamp\": \"2021-01-23T04:31:45.417Z\", \"platformID\": \"ESPORTSTMNT01\", \"rfc190Scope\": \"test.unk1.unk.lolgame.legs\", \"playbackID\": 1, \"gameTime\": 323850, \"gameName\": \"105562833913467203|game1\", \"monsterType\": \"gromp\", \"killerTeamID\": 200, \"killer\": 7, \"position\": {\"x\": 11899, \"z\": 6986}, \"rfc460Hostname\": \"0.0.0.0\", \"rfc461Schema\": \"epic_monster_kill\", \"stageID\": 1}, \"champion_level_up\": {\"gameID\": 1720186, \"rfc001Scope\": \"riot.lol.mgs.sx\", \"sequenceIndex\": 532, \"level\": 6, \"rfc460Timestamp\": \"2021-01-23T04:31:57.050Z\", \"platformID\": \"ESPORTSTMNT01\", \"rfc190Scope\": \"test.unk1.unk.lolgame.legs\", \"participant\": 8, \"playbackID\": 1, \"gameTime\": 335482, \"gameName\": \"105562833913467203|game1\", \"rfc460Hostname\": \"0.0.0.0\", \"rfc461Schema\": \"champion_level_up\", \"stageID\": 1}, \"champion_kill\": {\"gameID\": 1720186, \"rfc001Scope\": \"riot.lol.mgs.sx\", \"sequenceIndex\": 534, \"assistants\": [2, 3], \"rfc460Timestamp\": \"2021-01-23T04:31:58.125Z\", \"bounty\": 400, \"platformID\": \"ESPORTSTMNT01\", \"rfc190Scope\": \"test.unk1.unk.lolgame.legs\", \"victimTeamID\": 200, \"playbackID\": 1, \"gameTime\": 336540, \"gameName\": \"105562833913467203|game1\", \"killStreakLength\": 0, \"killerTeamID\": 100, \"victim\": 6, \"killer\": 1, \"position\": {\"x\": 5101, \"z\": 13542}, \"rfc460Hostname\": \"0.0.0.0\", \"rfc461Schema\": \"champion_kill\", \"stageID\": 1}, \"champion_kill_special\": {\"gameID\": 1720186, \"rfc001Scope\": \"riot.lol.mgs.sx\", \"sequenceIndex\": 535, \"rfc460Timestamp\": \"2021-01-23T04:31:58.125Z\", \"killType\": \"firstBlood\", \"platformID\": \"ESPORTSTMNT01\", \"rfc190Scope\": \"test.unk1.unk.lolgame.legs\", \"playbackID\": 1, \"gameTime\": 336540, \"gameName\": \"105562833913467203|game1\", \"killer\": 1, \"position\": {\"x\": 4926, \"z\": 13324}, \"rfc460Hostname\": \"0.0.0.0\", \"rfc461Schema\": \"champion_kill_special\", \"stageID\": 1}, \"item_sold\": {\"gameID\": 1720186, \"rfc001Scope\": \"riot.lol.mgs.sx\", \"sequenceIndex\": 568, \"rfc460Timestamp\": \"2021-01-23T04:32:15.322Z\", \"platformID\": \"ESPORTSTMNT01\", \"rfc190Scope\": \"test.unk1.unk.lolgame.legs\", \"participantID\": 8, \"itemID\": 2010, \"playbackID\": 1, \"gameTime\": 353756, \"gameName\": \"105562833913467203|game1\", \"rfc460Hostname\": \"0.0.0.0\", \"rfc461Schema\": \"item_sold\", \"stageID\": 1}, \"pause_started\": {\"gameID\": 1720186, \"rfc001Scope\": \"riot.lol.mgs.sx\", \"sequenceIndex\": 630, \"rfc460Timestamp\": \"2021-01-23T04:32:51.672Z\", \"platformID\": \"ESPORTSTMNT01\", \"rfc190Scope\": \"test.unk1.unk.lolgame.legs\", \"playbackID\": 1, \"gameTime\": 390106, \"gameName\": \"105562833913467203|game1\", \"wallTime\": 1611376371672, \"rfc460Hostname\": \"0.0.0.0\", \"rfc461Schema\": \"pause_started\", \"stageID\": 1}, \"pause_ended\": {\"gameID\": 1720186, \"rfc001Scope\": \"riot.lol.mgs.sx\", \"sequenceIndex\": 631, \"rfc460Timestamp\": \"2021-01-23T04:35:35.729Z\", \"platformID\": \"ESPORTSTMNT01\", \"rfc190Scope\": \"test.unk1.unk.lolgame.legs\", \"playbackID\": 1, \"gameTime\": 390106, \"gameName\": \"105562833913467203|game1\", \"wallTime\": 1611376535729, \"rfc460Hostname\": \"0.0.0.0\", \"rfc461Schema\": \"pause_ended\", \"stageID\": 1}, \"ward_killed\": {\"gameID\": 1720186, \"rfc001Scope\": \"riot.lol.mgs.sx\", \"sequenceIndex\": 636, \"rfc460Timestamp\": \"2021-01-23T04:35:38.904Z\", \"platformID\": \"ESPORTSTMNT01\", \"rfc190Scope\": \"test.unk1.unk.lolgame.legs\", \"wardType\": \"control\", \"playbackID\": 1, \"gameTime\": 393280, \"gameName\": \"105562833913467203|game1\", \"killer\": 3, \"position\": {\"x\": 8514, \"z\": 6566}, \"rfc460Hostname\": \"0.0.0.0\", \"rfc461Schema\": \"ward_killed\", \"stageID\": 1}, \"item_undo\": {\"gameID\": 1720186, \"rfc001Scope\": \"riot.lol.mgs.sx\", \"sequenceIndex\": 692, \"goldGain\": 75, \"rfc460Timestamp\": \"2021-01-23T04:36:13.193Z\", \"platformID\": \"ESPORTSTMNT01\", \"rfc190Scope\": \"test.unk1.unk.lolgame.legs\", \"participantID\": 10, \"itemBeforeUndo\": 2055, \"itemID\": 2055, \"playbackID\": 1, \"gameTime\": 427568, \"gameName\": \"105562833913467203|game1\", \"rfc460Hostname\": \"0.0.0.0\", \"rfc461Schema\": \"item_undo\", \"stageID\": 1}, \"turret_plate_destroyed\": {\"gameID\": 1720186, \"rfc001Scope\": \"riot.lol.mgs.sx\", \"sequenceIndex\": 794, \"assistants\": [], \"rfc460Timestamp\": \"2021-01-23T04:37:16.624Z\", \"platformID\": \"ESPORTSTMNT01\", \"rfc190Scope\": \"test.unk1.unk.lolgame.legs\", \"playbackID\": 1, \"gameTime\": 490998, \"gameName\": \"105562833913467203|game1\", \"teamID\": 100, \"lastHitter\": 0, \"position\": {\"x\": 5846, \"z\": 6396}, \"rfc460Hostname\": \"0.0.0.0\", \"lane\": \"mid\", \"rfc461Schema\": \"turret_plate_destroyed\", \"stageID\": 1}, \"building_destroyed\": {\"gameID\": 1720186, \"rfc001Scope\": \"riot.lol.mgs.sx\", \"sequenceIndex\": 1045, \"assistants\": [1], \"rfc460Timestamp\": \"2021-01-23T04:39:43.433Z\", \"platformID\": \"ESPORTSTMNT01\", \"rfc190Scope\": \"test.unk1.unk.lolgame.legs\", \"turretTier\": \"outer\", \"playbackID\": 1, \"gameTime\": 637806, \"gameName\": \"105562833913467203|game1\", \"teamID\": 200, \"lastHitter\": 2, \"position\": {\"x\": 4318, \"z\": 13875}, \"rfc460Hostname\": \"0.0.0.0\", \"lane\": \"top\", \"rfc461Schema\": \"building_destroyed\", \"buildingType\": \"turret\", \"stageID\": 1}, \"queued_dragon_info\": {\"gameID\": 1720186, \"rfc001Scope\": \"riot.lol.mgs.sx\", \"sequenceIndex\": 1081, \"nextDragonName\": \"water\", \"rfc460Timestamp\": \"2021-01-23T04:40:04.950Z\", \"platformID\": \"ESPORTSTMNT01\", \"rfc190Scope\": \"test.unk1.unk.lolgame.legs\", \"playbackID\": 1, \"gameTime\": 659320, \"gameName\": \"105562833913467203|game1\", \"nextDragonSpawnTime\": 960, \"rfc460Hostname\": \"0.0.0.0\", \"rfc461Schema\": \"queued_dragon_info\", \"stageID\": 1}, \"epic_monster_spawn\": {\"gameID\": 1720186, \"rfc001Scope\": \"riot.lol.mgs.sx\", \"sequenceIndex\": 1646, \"rfc460Timestamp\": \"2021-01-23T04:44:59.149Z\", \"platformID\": \"ESPORTSTMNT01\", \"rfc190Scope\": \"test.unk1.unk.lolgame.legs\", \"dragonType\": \"water\", \"playbackID\": 1, \"gameTime\": 953522, \"gameName\": \"105562833913467203|game1\", \"monsterType\": \"dragon\", \"rfc460Hostname\": \"0.0.0.0\", \"rfc461Schema\": \"epic_monster_spawn\", \"stageID\": 1}, \"game_end\": {\"gameID\": 1720186, \"rfc001Scope\": \"riot.lol.mgs.sx\", \"sequenceIndex\": 4212, \"winningTeam\": 200, \"rfc460Timestamp\": \"2021-01-23T05:09:15.993Z\", \"platformID\": \"ESPORTSTMNT01\", \"rfc190Scope\": \"test.unk1.unk.lolgame.legs\", \"playbackID\": 1, \"gameTime\": 2410360, \"gameName\": \"105562833913467203|game1\", \"wallTime\": 1611378555991, \"rfc460Hostname\": \"0.0.0.0\", \"rfc461Schema\": \"game_end\", \"stageID\": 1}, \"quit\": {\"gameID\": 1720310, \"rfc001Scope\": \"riot.lol.mgs.sx\", \"sequenceIndex\": 1055, \"rfc460Timestamp\": \"2021-01-23T08:27:32.242Z\", \"platformID\": \"ESPORTSTMNT01\", \"rfc190Scope\": \"test.unk1.unk.lolgame.legs\", \"participant\": 9, \"playbackID\": 1, \"gameTime\": 639031, \"gameName\": \"105562833913467215|game1\", \"rfc460Hostname\": \"0.0.0.0\", \"rfc461Schema\": \"quit\", \"stageID\": 1}, \"reconnect\": {\"gameID\": 1720310, \"rfc001Scope\": \"riot.lol.mgs.sx\", \"sequenceIndex\": 1056, \"rfc460Timestamp\": \"2021-01-23T08:29:07.684Z\", \"platformID\": \"ESPORTSTMNT01\", \"rfc190Scope\": \"test.unk1.unk.lolgame.legs\", \"participant\": 9, \"playbackID\": 1, \"gameTime\": 639031, \"gameName\": \"105562833913467215|game1\", \"rfc460Hostname\": \"0.0.0.0\", \"rfc461Schema\": \"reconnect\", \"stageID\": 1}, \"mute_action\": {\"gameID\": 2050661, \"rfc001Scope\": \"riot.lol.mgs.sx\", \"sequenceIndex\": 58, \"rfc460Timestamp\": \"2021-07-27T15:31:07.908Z\", \"platformID\": \"ESPORTSTMNT03\", \"rfc190Scope\": \"test.unk1.unk.lolgame.legs\", \"participant\": 2, \"target\": 10, \"playbackID\": 1, \"gameTime\": 10119, \"gameName\": \"106629609018314497|game1\", \"teamID\": 100, \"rfc460Hostname\": \"0.0.0.0\", \"muted\": true, \"multiMute\": false, \"rfc461Schema\": \"mute_action\", \"stageID\": 1}, \"surrender\": {\"gameID\": 2054829, \"rfc001Scope\": \"riot.lol.mgs.sx\", \"sequenceIndex\": 2210, \"rfc460Timestamp\": \"2021-08-07T12:39:52.295Z\", \"forVote\": 1, \"eventType\": \"surrenderVoteStart\", \"platformID\": \"ESPORTSTMNT03\", \"rfc190Scope\": \"test.unk1.unk.lolgame.legs\", \"participant\": 0, \"playbackID\": 1, \"gameTime\": 1400247, \"gameName\": \"106668926884178377|game2\", \"teamID\": 100, \"againstVote\": 0, \"rfc460Hostname\": \"0.0.0.0\", \"rfc461Schema\": \"surrender\", \"stageID\": 1}, \"champion_transformed\": {\"gameID\": 2090781, \"rfc001Scope\": \"riot.lol.mgs.sx\", \"sequenceIndex\": 1628, \"rfc460Timestamp\": \"2021-08-10T11:32:24.615Z\", \"transformer\": 7, \"platformID\": \"ESPORTSTMNT03\", \"rfc190Scope\": \"test.unk1.unk.lolgame.legs\", \"transformType\": \"slayer\", \"playbackID\": 1, \"gameTime\": 1001313, \"gameName\": \"106353129313331499|game1\", \"rfc460Hostname\": \"0.0.0.0\", \"rfc461Schema\": \"champion_transformed\", \"stageID\": 1}}\n"
     ]
    }
   ],
   "source": [
    "# Getting schemas (previous cell) takes 20 minutes, this line saves time:\n",
    "schemas_set = {'skill_level_up', 'epic_monster_spawn', 'ward_placed', 'turret_plate_destroyed', 'item_destroyed', 'reconnect', 'building_destroyed', 'champion_kill_special', 'champion_transformed', 'champion_kill', 'champion_level_up', 'mute_action', 'pause_started', 'pause_ended', 'surrender', 'queued_dragon_info', 'epic_monster_kill', 'game_end', 'item_undo', 'stats_update', 'item_sold', 'quit', 'item_purchased', 'ward_killed'}\n",
    "event_examples = {}\n",
    "for events in tqdm(read_matches_from_batches(data_folder)):\n",
    "    for event in events:\n",
    "        schema = event['rfc461Schema']\n",
    "        if schema not in event_examples:\n",
    "            event_examples[schema] = event\n",
    "    if set(event_examples.keys()) == schemas_set:\n",
    "        break\n",
    "print(json.dumps(event_examples))"
   ]
  },
  {
   "cell_type": "code",
   "execution_count": 14,
   "metadata": {
    "collapsed": false,
    "pycharm": {
     "name": "#%%\n"
    }
   },
   "outputs": [
    {
     "name": "stdout",
     "output_type": "stream",
     "text": [
      "{'stageID', 'playbackID', 'gameID', 'rfc460Timestamp', 'rfc460Hostname', 'gameName', 'rfc461Schema', 'rfc190Scope', 'gameTime', 'platformID', 'rfc001Scope', 'sequenceIndex'}\n"
     ]
    }
   ],
   "source": [
    "common_keys = set(event_examples['stats_update'].keys())\n",
    "for key, value in event_examples.items():\n",
    "   common_keys.intersection_update(value.keys())\n",
    "print(common_keys)"
   ]
  },
  {
   "cell_type": "code",
   "execution_count": null,
   "metadata": {
    "collapsed": false,
    "pycharm": {
     "name": "#%%\n"
    }
   },
   "outputs": [],
   "source": []
  }
 ],
 "metadata": {
  "kernelspec": {
   "display_name": "Python 3",
   "language": "python",
   "name": "python3"
  },
  "language_info": {
   "codemirror_mode": {
    "name": "ipython",
    "version": 2
   },
   "file_extension": ".py",
   "mimetype": "text/x-python",
   "name": "python",
   "nbconvert_exporter": "python",
   "pygments_lexer": "ipython2",
   "version": "3.8.10"
  },
  "vscode": {
   "interpreter": {
    "hash": "4e5f7066aea961af301e85fa5b88fe183168ebffaf4d11c7c5a6d53f0ba7549c"
   }
  }
 },
 "nbformat": 4,
 "nbformat_minor": 0
}
